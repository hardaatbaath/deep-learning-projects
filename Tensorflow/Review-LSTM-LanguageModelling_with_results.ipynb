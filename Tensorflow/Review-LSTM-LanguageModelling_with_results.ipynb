{
 "cells": [
  {
   "cell_type": "markdown",
   "metadata": {},
   "source": [
    "<img src=\"https://cf-courses-data.s3.us.cloud-object-storage.appdomain.cloud/IBMDeveloperSkillsNetwork-DL0120EN-SkillsNetwork/images/IDSN-logo.png\" width=\"300\" alt=\"cognitiveclass.ai logo\">\n",
    "\n",
    "<h1 align=\"center\"><font size=\"5\">RECURRENT NETWORKS and LSTM IN DEEP LEARNING</font></h1>\n"
   ]
  },
  {
   "cell_type": "markdown",
   "metadata": {},
   "source": [
    "Estimated time needed: **30** minutes\n"
   ]
  },
  {
   "cell_type": "markdown",
   "metadata": {},
   "source": [
    "<h2>Applying Recurrent Neural Networks/LSTM for Language Modeling</h2>\n",
    "Hello and welcome to this part. In this notebook, we will go over the topic of Language Modelling, and create a Recurrent Neural Network model based on the Long Short-Term Memory unit to train and benchmark on the Penn Treebank dataset. By the end of this notebook, you should be able to understand how TensorFlow builds and executes a RNN model for Language Modelling.\n"
   ]
  },
  {
   "cell_type": "markdown",
   "metadata": {},
   "source": [
    "<h2>The Objective</h2>\n",
    "By now, you should have an understanding of how Recurrent Networks work -- a specialized model to process sequential data by keeping track of the \"state\" or context. In this notebook, we go over a TensorFlow code snippet for creating a model focused on <b>Language Modelling</b> -- a very relevant task that is the cornerstone of many different linguistic problems such as <b>Speech Recognition, Machine Translation and Image Captioning</b>. For this, we will be using the Penn Treebank dataset, which is an often-used dataset for benchmarking Language Modelling models.\n"
   ]
  },
  {
   "cell_type": "markdown",
   "metadata": {},
   "source": [
    "\n",
    "<h2>Table of Contents</h2>\n",
    "<ol>\n",
    "    <li><a href=\"#language_modelling\">What exactly is Language Modelling?</a></li>\n",
    "    <li><a href=\"#treebank_dataset\">The Penn Treebank dataset</a></li>\n",
    "    <li><a href=\"#word_embedding\">Word Embedding</a></li>\n",
    "    <li><a href=\"#building_lstm_model\">Building the LSTM model for Language Modeling</a></li>\n",
    "    <li><a href=\"#ltsm\">LTSM</a></li>\n",
    "</ol>\n",
    "<p></p>\n",
    "</div>\n",
    "<br>\n"
   ]
  },
  {
   "cell_type": "markdown",
   "metadata": {},
   "source": [
    "--------\n"
   ]
  },
  {
   "cell_type": "markdown",
   "metadata": {},
   "source": [
    "<a id=\"language_modelling\"></a>\n",
    "<h2>What exactly is Language Modelling?</h2>\n",
    "Language Modelling, to put it simply, <b>is the task of assigning probabilities to sequences of words</b>. This means that, given a context of one or a sequence of words in the language the model was trained on, the model should provide the next most probable words or sequence of words that follows from the given sequence of words the sentence. Language Modelling is one of the most important tasks in Natural Language Processing.\n",
    "\n",
    "<img src=\"https://ibm.box.com/shared/static/1d1i5gub6wljby2vani2vzxp0xsph702.png\" width=\"1080\">\n",
    "<center><i>Example of a sentence being predicted</i></center>\n",
    "<br><br>\n",
    "In this example, one can see the predictions for the next word of a sentence, given the context \"This is an\". As you can see, this boils down to a sequential data analysis task -- you are given a word or a sequence of words (the input data), and, given the context (the state), you need to find out what is the next word (the prediction). This kind of analysis is very important for language-related tasks such as <b>Speech Recognition, Machine Translation, Image Captioning, Text Correction</b> and many other very relevant problems. \n",
    "\n",
    "<img src=\"https://ibm.box.com/shared/static/az39idf9ipfdpc5ugifpgxnydelhyf3i.png\" width=\"1080\">\n",
    "<center><i>The above example is a schema of an RNN in execution</i></center>\n",
    "<br><br>\n",
    "As the above image shows, Recurrent Network models fit this problem like a glove. Alongside LSTM and its capacity to maintain the model's state for over one thousand time steps, we have all the tools we need to undertake this problem. The goal for this notebook is to create a model that can reach <b>low levels of perplexity</b> on our desired dataset.\n",
    "\n",
    "For Language Modelling problems, <b>perplexity</b> is the way to gauge efficiency. Perplexity is simply a measure of how well a probabilistic model is able to predict its sample. A higher-level way to explain this would be saying that <b>low perplexity means a higher degree of trust in the predictions the model makes</b>. Therefore, the lower perplexity is, the better.\n"
   ]
  },
  {
   "cell_type": "markdown",
   "metadata": {},
   "source": [
    "<a id=\"treebank_dataset\"></a>\n",
    "<h2>The Penn Treebank dataset</h2>\n",
    "Historically, datasets big enough for Natural Language Processing are hard to come by. This is in part due to the necessity of the sentences to be broken down and tagged with a certain degree of correctness -- or else the models trained on it won't be able to be correct at all. This means that we need a <b>large amount of data, annotated by or at least corrected by humans</b>. This is, of course, not an easy task at all.\n",
    "\n",
    "The Penn Treebank, or PTB for short, is a dataset maintained by the University of Pennsylvania. It is <i>huge</i> -- there are over <b>four million and eight hundred thousand</b> annotated words in it, all corrected by humans. It is composed of many different sources, from abstracts of Department of Energy papers to texts from the Library of America. Since it is verifiably correct and of such a huge size, the Penn Treebank is commonly used as a benchmark dataset for Language Modelling.\n",
    "\n",
    "The dataset is divided in different kinds of annotations, such as Piece-of-Speech, Syntactic and Semantic skeletons. For this example, we will simply use a sample of clean, non-annotated words (with the exception of one tag --<code>&lt;unk&gt;</code>\n",
    ", which is used for rare words such as uncommon proper nouns) for our model. This means that we just want to predict what the next words would be, not what they mean in context or their classes on a given sentence.\n",
    "\n",
    "<center>Example of text from the dataset we are going to use, <b>ptb.train</b></center>\n",
    "<br><br>\n",
    "\n",
    "<div class=\"alert alert-block alert-info\" style=\"margin-top: 20px\">\n",
    "    <center>the percentage of lung cancer deaths among the workers at the west <code>&lt;unk&gt;</code> mass. paper factory appears to be the highest for any asbestos workers studied in western industrialized countries he said \n",
    " the plant which is owned by <code>&lt;unk&gt;</code> & <code>&lt;unk&gt;</code> co. was under contract with <code>&lt;unk&gt;</code> to make the cigarette filters \n",
    " the finding probably will support those who argue that the U.S. should regulate the class of asbestos including <code>&lt;unk&gt;</code> more <code>&lt;unk&gt;</code> than the common kind of asbestos <code>&lt;unk&gt;</code> found in most schools and other buildings dr. <code>&lt;unk&gt;</code> said</center>\n",
    "</div>\n"
   ]
  },
  {
   "cell_type": "markdown",
   "metadata": {},
   "source": [
    "<a id=\"word_embedding\"></a>\n",
    "<h2>Word Embeddings</h2><br/>\n",
    "\n",
    "For better processing, in this example, we will make use of <a href=\"https://www.tensorflow.org/tutorials/word2vec/\"><b>word embeddings</b></a>, which is <b>a way of representing sentence structures or words as n-dimensional vectors (where n is a reasonably high number, such as 200 or 500) of real numbers</b>. Basically, we will assign each word a randomly-initialized vector, and input those into the network to be processed. After a number of iterations, these vectors are expected to assume values that help the network to correctly predict what it needs to -- in our case, the probable next word in the sentence. This is shown to be a very effective task in Natural Language Processing, and is a commonplace practice.\n",
    "<br><br>\n",
    "<font size=\"4\"><strong>\n",
    "$$Vec(\"Example\") = [0.02, 0.00, 0.00, 0.92, 0.30, \\ldots]$$\n",
    "</strong></font>\n",
    "<br>\n",
    "Word Embedding tends to group up similarly used words <i>reasonably</i> close together in the vectorial space. For example, if we use T-SNE (a dimensional reduction visualization algorithm) to flatten the dimensions of our vectors into a 2-dimensional space and plot these words in a 2-dimensional space, we might see something like this:\n",
    "\n",
    "<img src=\"https://ibm.box.com/shared/static/bqhc5dg879gcoabzhxra1w8rkg3od1cu.png\" width=\"800\">\n",
    "<center><i>T-SNE Mockup with clusters marked for easier visualization</i></center>\n",
    "<br><br>\n",
    "As you can see, words that are frequently used together, in place of each other, or in the same places as them tend to be grouped together -- being closer together the higher they are correlated. For example, \"None\" is pretty semantically close to \"Zero\", while a phrase that uses \"Italy\", you could probably also fit \"Germany\" in it, with little damage to the sentence structure. The vectorial \"closeness\" for similar words like this is a great indicator of a well-built model.\n",
    "\n",
    "<hr>\n",
    " \n"
   ]
  },
  {
   "cell_type": "markdown",
   "metadata": {},
   "source": [
    "We need to import the necessary modules for our code. We need <b><code>numpy</code></b> and <b><code>tensorflow</code></b>, obviously. Additionally, we can import directly the <b><code>tensorflow.models.rnn</code></b> model, which includes the function for building RNNs, and <b><code>tensorflow.models.rnn.ptb.reader</code></b> which is the helper module for getting the input data from the dataset we just downloaded.\n",
    "\n",
    "If you want to learn more take a look at https://github.com/tensorflow/models/blob/master/tutorials/rnn/ptb/reader.py\n"
   ]
  },
  {
   "cell_type": "code",
   "execution_count": 1,
   "metadata": {
    "tags": []
   },
   "outputs": [
    {
     "name": "stdout",
     "output_type": "stream",
     "text": [
      "Requirement already satisfied: tensorflow==2.9.0 in /home/jupyterlab/conda/envs/python/lib/python3.7/site-packages (2.9.0)\n",
      "Requirement already satisfied: absl-py>=1.0.0 in /home/jupyterlab/conda/envs/python/lib/python3.7/site-packages (from tensorflow==2.9.0) (1.4.0)\n",
      "Requirement already satisfied: astunparse>=1.6.0 in /home/jupyterlab/conda/envs/python/lib/python3.7/site-packages (from tensorflow==2.9.0) (1.6.3)\n",
      "Requirement already satisfied: flatbuffers<2,>=1.12 in /home/jupyterlab/conda/envs/python/lib/python3.7/site-packages (from tensorflow==2.9.0) (1.12)\n",
      "Requirement already satisfied: gast<=0.4.0,>=0.2.1 in /home/jupyterlab/conda/envs/python/lib/python3.7/site-packages (from tensorflow==2.9.0) (0.4.0)\n",
      "Requirement already satisfied: google-pasta>=0.1.1 in /home/jupyterlab/conda/envs/python/lib/python3.7/site-packages (from tensorflow==2.9.0) (0.2.0)\n",
      "Requirement already satisfied: grpcio<2.0,>=1.24.3 in /home/jupyterlab/conda/envs/python/lib/python3.7/site-packages (from tensorflow==2.9.0) (1.24.3)\n",
      "Requirement already satisfied: h5py>=2.9.0 in /home/jupyterlab/conda/envs/python/lib/python3.7/site-packages (from tensorflow==2.9.0) (3.8.0)\n",
      "Requirement already satisfied: keras<2.10.0,>=2.9.0rc0 in /home/jupyterlab/conda/envs/python/lib/python3.7/site-packages (from tensorflow==2.9.0) (2.9.0)\n",
      "Requirement already satisfied: keras-preprocessing>=1.1.1 in /home/jupyterlab/conda/envs/python/lib/python3.7/site-packages (from tensorflow==2.9.0) (1.1.2)\n",
      "Requirement already satisfied: libclang>=13.0.0 in /home/jupyterlab/conda/envs/python/lib/python3.7/site-packages (from tensorflow==2.9.0) (18.1.1)\n",
      "Requirement already satisfied: numpy>=1.20 in /home/jupyterlab/conda/envs/python/lib/python3.7/site-packages (from tensorflow==2.9.0) (1.21.4)\n",
      "Requirement already satisfied: opt-einsum>=2.3.2 in /home/jupyterlab/conda/envs/python/lib/python3.7/site-packages (from tensorflow==2.9.0) (3.3.0)\n",
      "Requirement already satisfied: packaging in /home/jupyterlab/conda/envs/python/lib/python3.7/site-packages (from tensorflow==2.9.0) (23.1)\n",
      "Requirement already satisfied: protobuf>=3.9.2 in /home/jupyterlab/conda/envs/python/lib/python3.7/site-packages (from tensorflow==2.9.0) (3.19.6)\n",
      "Requirement already satisfied: setuptools in /home/jupyterlab/conda/envs/python/lib/python3.7/site-packages (from tensorflow==2.9.0) (67.7.2)\n",
      "Requirement already satisfied: six>=1.12.0 in /home/jupyterlab/conda/envs/python/lib/python3.7/site-packages (from tensorflow==2.9.0) (1.16.0)\n",
      "Requirement already satisfied: tensorboard<2.10,>=2.9 in /home/jupyterlab/conda/envs/python/lib/python3.7/site-packages (from tensorflow==2.9.0) (2.9.1)\n",
      "Requirement already satisfied: tensorflow-io-gcs-filesystem>=0.23.1 in /home/jupyterlab/conda/envs/python/lib/python3.7/site-packages (from tensorflow==2.9.0) (0.34.0)\n",
      "Requirement already satisfied: tensorflow-estimator<2.10.0,>=2.9.0rc0 in /home/jupyterlab/conda/envs/python/lib/python3.7/site-packages (from tensorflow==2.9.0) (2.9.0)\n",
      "Requirement already satisfied: termcolor>=1.1.0 in /home/jupyterlab/conda/envs/python/lib/python3.7/site-packages (from tensorflow==2.9.0) (2.3.0)\n",
      "Requirement already satisfied: typing-extensions>=3.6.6 in /home/jupyterlab/conda/envs/python/lib/python3.7/site-packages (from tensorflow==2.9.0) (4.5.0)\n",
      "Requirement already satisfied: wrapt>=1.11.0 in /home/jupyterlab/conda/envs/python/lib/python3.7/site-packages (from tensorflow==2.9.0) (1.14.1)\n",
      "Requirement already satisfied: wheel<1.0,>=0.23.0 in /home/jupyterlab/conda/envs/python/lib/python3.7/site-packages (from astunparse>=1.6.0->tensorflow==2.9.0) (0.40.0)\n",
      "Requirement already satisfied: google-auth<3,>=1.6.3 in /home/jupyterlab/conda/envs/python/lib/python3.7/site-packages (from tensorboard<2.10,>=2.9->tensorflow==2.9.0) (2.34.0)\n",
      "Requirement already satisfied: google-auth-oauthlib<0.5,>=0.4.1 in /home/jupyterlab/conda/envs/python/lib/python3.7/site-packages (from tensorboard<2.10,>=2.9->tensorflow==2.9.0) (0.4.6)\n",
      "Requirement already satisfied: markdown>=2.6.8 in /home/jupyterlab/conda/envs/python/lib/python3.7/site-packages (from tensorboard<2.10,>=2.9->tensorflow==2.9.0) (3.4.3)\n",
      "Requirement already satisfied: requests<3,>=2.21.0 in /home/jupyterlab/conda/envs/python/lib/python3.7/site-packages (from tensorboard<2.10,>=2.9->tensorflow==2.9.0) (2.29.0)\n",
      "Requirement already satisfied: tensorboard-data-server<0.7.0,>=0.6.0 in /home/jupyterlab/conda/envs/python/lib/python3.7/site-packages (from tensorboard<2.10,>=2.9->tensorflow==2.9.0) (0.6.1)\n",
      "Requirement already satisfied: tensorboard-plugin-wit>=1.6.0 in /home/jupyterlab/conda/envs/python/lib/python3.7/site-packages (from tensorboard<2.10,>=2.9->tensorflow==2.9.0) (1.8.1)\n",
      "Requirement already satisfied: werkzeug>=1.0.1 in /home/jupyterlab/conda/envs/python/lib/python3.7/site-packages (from tensorboard<2.10,>=2.9->tensorflow==2.9.0) (2.2.3)\n",
      "Requirement already satisfied: cachetools<6.0,>=2.0.0 in /home/jupyterlab/conda/envs/python/lib/python3.7/site-packages (from google-auth<3,>=1.6.3->tensorboard<2.10,>=2.9->tensorflow==2.9.0) (5.5.0)\n",
      "Requirement already satisfied: pyasn1-modules>=0.2.1 in /home/jupyterlab/conda/envs/python/lib/python3.7/site-packages (from google-auth<3,>=1.6.3->tensorboard<2.10,>=2.9->tensorflow==2.9.0) (0.3.0)\n",
      "Requirement already satisfied: rsa<5,>=3.1.4 in /home/jupyterlab/conda/envs/python/lib/python3.7/site-packages (from google-auth<3,>=1.6.3->tensorboard<2.10,>=2.9->tensorflow==2.9.0) (4.9)\n",
      "Requirement already satisfied: requests-oauthlib>=0.7.0 in /home/jupyterlab/conda/envs/python/lib/python3.7/site-packages (from google-auth-oauthlib<0.5,>=0.4.1->tensorboard<2.10,>=2.9->tensorflow==2.9.0) (2.0.0)\n",
      "Requirement already satisfied: importlib-metadata>=4.4 in /home/jupyterlab/conda/envs/python/lib/python3.7/site-packages (from markdown>=2.6.8->tensorboard<2.10,>=2.9->tensorflow==2.9.0) (4.11.4)\n",
      "Requirement already satisfied: charset-normalizer<4,>=2 in /home/jupyterlab/conda/envs/python/lib/python3.7/site-packages (from requests<3,>=2.21.0->tensorboard<2.10,>=2.9->tensorflow==2.9.0) (3.1.0)\n",
      "Requirement already satisfied: idna<4,>=2.5 in /home/jupyterlab/conda/envs/python/lib/python3.7/site-packages (from requests<3,>=2.21.0->tensorboard<2.10,>=2.9->tensorflow==2.9.0) (3.4)\n",
      "Requirement already satisfied: urllib3<1.27,>=1.21.1 in /home/jupyterlab/conda/envs/python/lib/python3.7/site-packages (from requests<3,>=2.21.0->tensorboard<2.10,>=2.9->tensorflow==2.9.0) (1.26.15)\n",
      "Requirement already satisfied: certifi>=2017.4.17 in /home/jupyterlab/conda/envs/python/lib/python3.7/site-packages (from requests<3,>=2.21.0->tensorboard<2.10,>=2.9->tensorflow==2.9.0) (2023.5.7)\n",
      "Requirement already satisfied: MarkupSafe>=2.1.1 in /home/jupyterlab/conda/envs/python/lib/python3.7/site-packages (from werkzeug>=1.0.1->tensorboard<2.10,>=2.9->tensorflow==2.9.0) (2.1.1)\n",
      "Requirement already satisfied: zipp>=0.5 in /home/jupyterlab/conda/envs/python/lib/python3.7/site-packages (from importlib-metadata>=4.4->markdown>=2.6.8->tensorboard<2.10,>=2.9->tensorflow==2.9.0) (3.15.0)\n",
      "Requirement already satisfied: pyasn1<0.6.0,>=0.4.6 in /home/jupyterlab/conda/envs/python/lib/python3.7/site-packages (from pyasn1-modules>=0.2.1->google-auth<3,>=1.6.3->tensorboard<2.10,>=2.9->tensorflow==2.9.0) (0.5.0)\n",
      "Requirement already satisfied: oauthlib>=3.0.0 in /home/jupyterlab/conda/envs/python/lib/python3.7/site-packages (from requests-oauthlib>=0.7.0->google-auth-oauthlib<0.5,>=0.4.1->tensorboard<2.10,>=2.9->tensorflow==2.9.0) (3.2.2)\n",
      "Requirement already satisfied: numpy==1.21.4 in /home/jupyterlab/conda/envs/python/lib/python3.7/site-packages (1.21.4)\n"
     ]
    }
   ],
   "source": [
    "!pip install tensorflow==2.9.0\n",
    "!pip install numpy==1.21.4\n"
   ]
  },
  {
   "cell_type": "code",
   "execution_count": 2,
   "metadata": {
    "tags": []
   },
   "outputs": [
    {
     "name": "stderr",
     "output_type": "stream",
     "text": [
      "2024-09-07 18:55:30.335601: I tensorflow/core/util/util.cc:169] oneDNN custom operations are on. You may see slightly different numerical results due to floating-point round-off errors from different computation orders. To turn them off, set the environment variable `TF_ENABLE_ONEDNN_OPTS=0`.\n",
      "2024-09-07 18:55:30.348929: W tensorflow/stream_executor/platform/default/dso_loader.cc:64] Could not load dynamic library 'libcudart.so.11.0'; dlerror: libcudart.so.11.0: cannot open shared object file: No such file or directory\n",
      "2024-09-07 18:55:30.348956: I tensorflow/stream_executor/cuda/cudart_stub.cc:29] Ignore above cudart dlerror if you do not have a GPU set up on your machine.\n"
     ]
    }
   ],
   "source": [
    "import time\n",
    "import numpy as np\n",
    "import tensorflow as tf\n",
    "if not tf.__version__ == '2.9.0':\n",
    "    print(tf.__version__)\n",
    "    raise ValueError('please upgrade to TensorFlow 2.9.0, or restart your Kernel (Kernel->Restart & Clear Output)')"
   ]
  },
  {
   "cell_type": "markdown",
   "metadata": {},
   "source": [
    "IMPORTANT! => Please restart the kernel by clicking on \"Kernel\"->\"Restart and Clear Outout\" and wait until all output disapears. Then your changes are beeing picked up\n"
   ]
  },
  {
   "cell_type": "code",
   "execution_count": 3,
   "metadata": {
    "tags": []
   },
   "outputs": [],
   "source": [
    "#!mkdir data\n",
    "#!mkdir data/ptb\n",
    "#!wget -q -O data/ptb/reader.py https://cf-courses-data.s3.us.cloud-object-storage.appdomain.cloud/IBMDeveloperSkillsNetwork-DL0120EN-SkillsNetwork/labs/Week3/data/ptb/reader.py\n",
    "#!cp data/ptb/reader.py .\n",
    "\n"
   ]
  },
  {
   "cell_type": "code",
   "execution_count": 4,
   "metadata": {
    "tags": []
   },
   "outputs": [],
   "source": [
    "# Copyright 2015 The TensorFlow Authors. All Rights Reserved.\n",
    "#\n",
    "# Licensed under the Apache License, Version 2.0 (the \"License\");\n",
    "# you may not use this file except in compliance with the License.\n",
    "# You may obtain a copy of the License at\n",
    "#\n",
    "#     http://www.apache.org/licenses/LICENSE-2.0\n",
    "#\n",
    "# Unless required by applicable law or agreed to in writing, software\n",
    "# distributed under the License is distributed on an \"AS IS\" BASIS,\n",
    "# WITHOUT WARRANTIES OR CONDITIONS OF ANY KIND, either express or implied.\n",
    "# See the License for the specific language governing permissions and\n",
    "# limitations under the License.\n",
    "# ==============================================================================\n",
    "\n",
    "\n",
    "\"\"\"Utilities for parsing PTB text files.\"\"\"\n",
    "from __future__ import absolute_import\n",
    "from __future__ import division\n",
    "from __future__ import print_function\n",
    "\n",
    "import collections\n",
    "import os\n",
    "\n",
    "import numpy as np\n",
    "import tensorflow as tf\n",
    "\n",
    "\n",
    "def _read_words(filename):\n",
    "  with tf.io.gfile.GFile(filename, \"r\") as f:\n",
    "    return f.read().replace(\"\\n\", \"<eos>\").split()\n",
    "\n",
    "\n",
    "def _build_vocab(filename):\n",
    "  data = _read_words(filename)\n",
    "\n",
    "  counter = collections.Counter(data)\n",
    "  count_pairs = sorted(counter.items(), key=lambda x: (-x[1], x[0]))\n",
    "\n",
    "  words, _ = list(zip(*count_pairs))\n",
    "  word_to_id = dict(zip(words, range(len(words))))\n",
    "\n",
    "  return word_to_id\n",
    "\n",
    "\n",
    "def _file_to_word_ids(filename, word_to_id):\n",
    "  data = _read_words(filename)\n",
    "  return [word_to_id[word] for word in data if word in word_to_id]\n",
    "\n",
    "\n",
    "def ptb_raw_data(data_path=None):\n",
    "  \"\"\"Load PTB raw data from data directory \"data_path\".\n",
    "\n",
    "  Reads PTB text files, converts strings to integer ids,\n",
    "  and performs mini-batching of the inputs.\n",
    "\n",
    "  The PTB dataset comes from Tomas Mikolov's webpage:\n",
    "\n",
    "  http://www.fit.vutbr.cz/~imikolov/rnnlm/simple-examples.tgz\n",
    "\n",
    "  Args:\n",
    "    data_path: string path to the directory where simple-examples.tgz has\n",
    "      been extracted.\n",
    "\n",
    "  Returns:\n",
    "    tuple (train_data, valid_data, test_data, vocabulary)\n",
    "    where each of the data objects can be passed to PTBIterator.\n",
    "  \"\"\"\n",
    "\n",
    "  train_path = os.path.join(data_path, \"ptb.train.txt\")\n",
    "  valid_path = os.path.join(data_path, \"ptb.valid.txt\")\n",
    "  test_path = os.path.join(data_path, \"ptb.test.txt\")\n",
    "\n",
    "  word_to_id = _build_vocab(train_path)\n",
    "  train_data = _file_to_word_ids(train_path, word_to_id)\n",
    "  valid_data = _file_to_word_ids(valid_path, word_to_id)\n",
    "  test_data = _file_to_word_ids(test_path, word_to_id)\n",
    "  vocabulary = len(word_to_id)\n",
    "  return train_data, valid_data, test_data, vocabulary, word_to_id\n",
    "\n",
    "\n",
    "def ptb_iterator(raw_data, batch_size, num_steps):\n",
    "  \"\"\"Iterate on the raw PTB data.\n",
    "\n",
    "  This generates batch_size pointers into the raw PTB data, and allows\n",
    "  minibatch iteration along these pointers.\n",
    "\n",
    "  Args:\n",
    "    raw_data: one of the raw data outputs from ptb_raw_data.\n",
    "    batch_size: int, the batch size.\n",
    "    num_steps: int, the number of unrolls.\n",
    "\n",
    "  Yields:\n",
    "    Pairs of the batched data, each a matrix of shape [batch_size, num_steps].\n",
    "    The second element of the tuple is the same data time-shifted to the\n",
    "    right by one.\n",
    "\n",
    "  Raises:\n",
    "    ValueError: if batch_size or num_steps are too high.\n",
    "  \"\"\"\n",
    "  raw_data = np.array(raw_data, dtype=np.int32)\n",
    "\n",
    "  data_len = len(raw_data)\n",
    "  batch_len = data_len // batch_size\n",
    "  data = np.zeros([batch_size, batch_len], dtype=np.int32)\n",
    "  for i in range(batch_size):\n",
    "    data[i] = raw_data[batch_len * i:batch_len * (i + 1)]\n",
    "\n",
    "  epoch_size = (batch_len - 1) // num_steps\n",
    "\n",
    "  if epoch_size == 0:\n",
    "    raise ValueError(\"epoch_size == 0, decrease batch_size or num_steps\")\n",
    "\n",
    "  for i in range(epoch_size):\n",
    "    x = data[:, i*num_steps:(i+1)*num_steps]\n",
    "    y = data[:, i*num_steps+1:(i+1)*num_steps+1]\n",
    "    yield (x, y)"
   ]
  },
  {
   "cell_type": "markdown",
   "metadata": {},
   "source": [
    "<a id=\"building_lstm_model\"></a>\n",
    "<h2>Building the LSTM model for Language Modeling</h2>\n",
    "Now that we know exactly what we are doing, we can start building our model using TensorFlow. The very first thing we need to do is download and extract the  dataset, which can be done by executing the code cell below.\n"
   ]
  },
  {
   "cell_type": "code",
   "execution_count": 5,
   "metadata": {
    "tags": []
   },
   "outputs": [
    {
     "name": "stdout",
     "output_type": "stream",
     "text": [
      "--2024-09-07 18:55:33--  https://cf-courses-data.s3.us.cloud-object-storage.appdomain.cloud/SPqCgT4JZp9royRjGgbqSA/data.zip\n",
      "Resolving cf-courses-data.s3.us.cloud-object-storage.appdomain.cloud (cf-courses-data.s3.us.cloud-object-storage.appdomain.cloud)... 169.63.118.104, 169.63.118.104\n",
      "Connecting to cf-courses-data.s3.us.cloud-object-storage.appdomain.cloud (cf-courses-data.s3.us.cloud-object-storage.appdomain.cloud)|169.63.118.104|:443... connected.\n",
      "HTTP request sent, awaiting response... 200 OK\n",
      "Length: 2020687 (1.9M) [application/zip]\n",
      "Saving to: ‘data.zip.1’\n",
      "\n",
      "data.zip.1          100%[===================>]   1.93M  --.-KB/s    in 0.04s   \n",
      "\n",
      "2024-09-07 18:55:33 (45.2 MB/s) - ‘data.zip.1’ saved [2020687/2020687]\n",
      "\n",
      "Archive:  data.zip\n",
      "  inflating: data/ptb.test.txt       \n",
      "  inflating: data/ptb.train.txt      \n",
      "  inflating: data/ptb.valid.txt      \n"
     ]
    }
   ],
   "source": [
    "!wget https://cf-courses-data.s3.us.cloud-object-storage.appdomain.cloud/SPqCgT4JZp9royRjGgbqSA/data.zip\n",
    "!unzip -o data.zip"
   ]
  },
  {
   "cell_type": "markdown",
   "metadata": {},
   "source": [
    "Additionally, for the sake of making it easy to play around with the model's hyperparameters, we can declare them beforehand. Feel free to change these -- you will see a difference in performance each time you change those!  \n"
   ]
  },
  {
   "cell_type": "code",
   "execution_count": 6,
   "metadata": {
    "tags": []
   },
   "outputs": [],
   "source": [
    "#Initial weight scale\n",
    "init_scale = 0.1\n",
    "#Initial learning rate\n",
    "learning_rate = 1.0\n",
    "#Maximum permissible norm for the gradient (For gradient clipping -- another measure against Exploding Gradients)\n",
    "max_grad_norm = 5\n",
    "#The number of layers in our model\n",
    "num_layers = 2\n",
    "#The total number of recurrence steps, also known as the number of layers when our RNN is \"unfolded\"\n",
    "num_steps = 20\n",
    "#The number of processing units (neurons) in the hidden layers\n",
    "hidden_size_l1 = 256\n",
    "hidden_size_l2 = 128\n",
    "#The maximum number of epochs trained with the initial learning rate\n",
    "max_epoch_decay_lr = 4\n",
    "#The total number of epochs in training\n",
    "max_epoch = 15\n",
    "#The probability for keeping data in the Dropout Layer (This is an optimization, but is outside our scope for this notebook!)\n",
    "#At 1, we ignore the Dropout Layer wrapping.\n",
    "keep_prob = 1\n",
    "#The decay for the learning rate\n",
    "decay = 0.5\n",
    "#The size for each batch of data\n",
    "batch_size = 30\n",
    "#The size of our vocabulary\n",
    "vocab_size = 10000\n",
    "embeding_vector_size= 200\n",
    "#Training flag to separate training from testing\n",
    "is_training = 1\n",
    "#Data directory for our dataset\n",
    "data_dir = \"data\""
   ]
  },
  {
   "cell_type": "markdown",
   "metadata": {},
   "source": [
    "Some clarifications for LSTM architecture based on the arguments:\n",
    "\n",
    "Network structure:\n",
    "<ul>\n",
    "    <li>In this network, the number of LSTM cells are 2. To give the model more expressive power, we can add multiple layers of LSTMs to process the data. The output of the first layer will become the input of the second and so on.\n",
    "    </li>\n",
    "    <li>The recurrence steps is 20, that is, when our RNN is \"Unfolded\", the recurrence step is 20.</li>   \n",
    "    <li>the structure is like:\n",
    "        <ul>\n",
    "            <li>200 input units -> [200x200] Weight -> 200 Hidden units (first layer) -> [200x200] Weight matrix  -> 200 Hidden units (second layer) ->  [200] weight Matrix -> 200 unit output</li>\n",
    "        </ul>\n",
    "    </li>\n",
    "</ul>\n",
    "<br>\n",
    "\n",
    "Input layer: \n",
    "<ul>\n",
    "    <li>The network has 200 input units.</li>\n",
    "    <li>Suppose each word is represented by an embedding vector of dimensionality e=200. The input layer of each cell will have 200 linear units. These e=200 linear units are connected to each of the h=200 LSTM units in the hidden layer (assuming there is only one hidden layer, though our case has 2 layers).\n",
    "    </li>\n",
    "    <li>The input shape is [batch_size, num_steps], that is [30x20]. It will turn into [30x20x200] after embedding, and then 20x[30x200]\n",
    "    </li>\n",
    "</ul>\n",
    "<br>\n",
    "\n",
    "Hidden layer:\n",
    "<ul>\n",
    "    <li>Each LSTM has 200 hidden units which is equivalent to the dimensionality of the embedding words and output.</li>\n",
    "</ul>\n",
    "<br>\n"
   ]
  },
  {
   "cell_type": "markdown",
   "metadata": {},
   "source": [
    "There is a lot to be done and a ton of information to process at the same time, so go over this code slowly. It may seem complex at first, but if you try to apply what you just learned about language modelling to the code you see, you should be able to understand it.\n",
    "\n",
    "This code is adapted from the <a href=\"https://github.com/tensorflow/models\">PTBModel</a> example bundled with the TensorFlow source code.\n",
    "\n",
    "\n",
    "<h3>Training data</h3>\n",
    "The story starts from data:\n",
    "<ul>\n",
    "    <li>Train data is a list of words, of size 929589, represented by numbers, e.g. [9971, 9972, 9974, 9975,...]</li>\n",
    "    <li>We read data as mini-batch of size b=30. Assume the size of each sentence is 20 words (num_steps = 20). Then it will take $$floor(\\frac{N}{b \\times h})+1=1548$$ iterations for the learner to go through all sentences once. Where N is the size of the list of words, b is batch size, and h is size of each sentence. So, the number of iterators is 1548\n",
    "    </li>\n",
    "    <li>Each batch data is read from train dataset of size 600, and shape of [30x20]</li>\n",
    "</ul>\n"
   ]
  },
  {
   "cell_type": "code",
   "execution_count": 7,
   "metadata": {
    "tags": []
   },
   "outputs": [],
   "source": [
    "# Reads the data and separates it into training data, validation data and testing data\n",
    "raw_data = ptb_raw_data(data_dir)\n",
    "train_data, valid_data, test_data, vocab, word_to_id = raw_data"
   ]
  },
  {
   "cell_type": "code",
   "execution_count": 8,
   "metadata": {
    "tags": []
   },
   "outputs": [
    {
     "data": {
      "text/plain": [
       "929589"
      ]
     },
     "execution_count": 8,
     "metadata": {},
     "output_type": "execute_result"
    }
   ],
   "source": [
    "len(train_data)"
   ]
  },
  {
   "cell_type": "code",
   "execution_count": 9,
   "metadata": {
    "tags": []
   },
   "outputs": [
    {
     "name": "stdout",
     "output_type": "stream",
     "text": [
      "['aer', 'banknote', 'berlitz', 'calloway', 'centrust', 'cluett', 'fromstein', 'gitano', 'guterman', 'hydro-quebec', 'ipo', 'kia', 'memotec', 'mlx', 'nahb', 'punts', 'rake', 'regatta', 'rubens', 'sim', 'snack-food', 'ssangyong', 'swapo', 'wachter', '<eos>', 'pierre', '<unk>', 'N', 'years', 'old', 'will', 'join', 'the', 'board', 'as', 'a', 'nonexecutive', 'director', 'nov.', 'N', '<eos>', 'mr.', '<unk>', 'is', 'chairman', 'of', '<unk>', 'n.v.', 'the', 'dutch', 'publishing', 'group', '<eos>', 'rudolph', '<unk>', 'N', 'years', 'old', 'and', 'former', 'chairman', 'of', 'consolidated', 'gold', 'fields', 'plc', 'was', 'named', 'a', 'nonexecutive', 'director', 'of', 'this', 'british', 'industrial', 'conglomerate', '<eos>', 'a', 'form', 'of', 'asbestos', 'once', 'used', 'to', 'make', 'kent', 'cigarette', 'filters', 'has', 'caused', 'a', 'high', 'percentage', 'of', 'cancer', 'deaths', 'among', 'a', 'group', 'of']\n"
     ]
    }
   ],
   "source": [
    "def id_to_word(id_list):\n",
    "    line = []\n",
    "    for w in id_list:\n",
    "        for word, wid in word_to_id.items():\n",
    "            if wid == w:\n",
    "                line.append(word)\n",
    "    return line            \n",
    "                \n",
    "\n",
    "print(id_to_word(train_data[0:100]))"
   ]
  },
  {
   "cell_type": "markdown",
   "metadata": {},
   "source": [
    "Lets just read one mini-batch now and feed our network:\n"
   ]
  },
  {
   "cell_type": "code",
   "execution_count": 10,
   "metadata": {
    "tags": []
   },
   "outputs": [],
   "source": [
    "itera = ptb_iterator(train_data, batch_size, num_steps)\n",
    "first_touple = itera.__next__()\n",
    "_input_data = first_touple[0]\n",
    "_targets = first_touple[1]"
   ]
  },
  {
   "cell_type": "code",
   "execution_count": 11,
   "metadata": {
    "tags": []
   },
   "outputs": [
    {
     "data": {
      "text/plain": [
       "(30, 20)"
      ]
     },
     "execution_count": 11,
     "metadata": {},
     "output_type": "execute_result"
    }
   ],
   "source": [
    "_input_data.shape"
   ]
  },
  {
   "cell_type": "code",
   "execution_count": 12,
   "metadata": {
    "tags": []
   },
   "outputs": [
    {
     "data": {
      "text/plain": [
       "(30, 20)"
      ]
     },
     "execution_count": 12,
     "metadata": {},
     "output_type": "execute_result"
    }
   ],
   "source": [
    "_targets.shape"
   ]
  },
  {
   "cell_type": "markdown",
   "metadata": {},
   "source": [
    "Lets look at 3 sentences of our input x:\n"
   ]
  },
  {
   "cell_type": "code",
   "execution_count": 13,
   "metadata": {
    "tags": []
   },
   "outputs": [
    {
     "data": {
      "text/plain": [
       "array([[9970, 9971, 9972, 9974, 9975, 9976, 9980, 9981, 9982, 9983, 9984,\n",
       "        9986, 9987, 9988, 9989, 9991, 9992, 9993, 9994, 9995],\n",
       "       [2654,    6,  334, 2886,    4,    1,  233,  711,  834,   11,  130,\n",
       "         123,    7,  514,    2,   63,   10,  514,    8,  605],\n",
       "       [   0, 1071,    4,    0,  185,   24,  368,   20,   31, 3109,  954,\n",
       "          12,    3,   21,    2, 2915,    2,   12,    3,   21]],\n",
       "      dtype=int32)"
      ]
     },
     "execution_count": 13,
     "metadata": {},
     "output_type": "execute_result"
    }
   ],
   "source": [
    "_input_data[0:3]"
   ]
  },
  {
   "cell_type": "code",
   "execution_count": 14,
   "metadata": {
    "tags": []
   },
   "outputs": [
    {
     "name": "stdout",
     "output_type": "stream",
     "text": [
      "['aer', 'banknote', 'berlitz', 'calloway', 'centrust', 'cluett', 'fromstein', 'gitano', 'guterman', 'hydro-quebec', 'ipo', 'kia', 'memotec', 'mlx', 'nahb', 'punts', 'rake', 'regatta', 'rubens', 'sim']\n"
     ]
    }
   ],
   "source": [
    "print(id_to_word(_input_data[0,:]))"
   ]
  },
  {
   "cell_type": "markdown",
   "metadata": {},
   "source": [
    "<h3>Embeddings</h3>\n",
    "We have to convert the words in our dataset to vectors of numbers. The traditional approach is to use one-hot encoding method that is usually used for converting categorical values to numerical values. However, One-hot encoded vectors are high-dimensional, sparse and in a big dataset, computationally inefficient. So, we use word2vec approach. It is, in fact, a layer in our LSTM network, where the word IDs will be represented as a dense representation before feeding to the LSTM. \n",
    "\n",
    "The embedded vectors also get updated during the training process of the deep neural network.\n",
    "We create the embeddings for our input data. <b>embedding_vocab</b> is matrix of [10000x200] for all 10000 unique words.\n"
   ]
  },
  {
   "cell_type": "markdown",
   "metadata": {},
   "source": [
    "<b>embedding_lookup()</b> finds the embedded values for our batch of 30x20 words. It  goes to each row of <code>input_data</code>, and for each word in the row/sentence, finds the correspond vector in <code>embedding_dic<code>. <br>\n",
    "It creates a [30x20x200] tensor, so, the first element of <b>inputs</b> (the first sentence), is a matrix of 20x200, which each row of it, is vector representing a word in the sentence.\n"
   ]
  },
  {
   "cell_type": "code",
   "execution_count": 15,
   "metadata": {
    "tags": []
   },
   "outputs": [],
   "source": [
    "embedding_layer = tf.keras.layers.Embedding(vocab_size, embeding_vector_size,batch_input_shape=(batch_size, num_steps),trainable=True,name=\"embedding_vocab\")  "
   ]
  },
  {
   "cell_type": "code",
   "execution_count": 16,
   "metadata": {
    "tags": []
   },
   "outputs": [
    {
     "name": "stderr",
     "output_type": "stream",
     "text": [
      "2024-09-07 18:55:36.290173: W tensorflow/stream_executor/platform/default/dso_loader.cc:64] Could not load dynamic library 'libcuda.so.1'; dlerror: libcuda.so.1: cannot open shared object file: No such file or directory\n",
      "2024-09-07 18:55:36.290231: W tensorflow/stream_executor/cuda/cuda_driver.cc:269] failed call to cuInit: UNKNOWN ERROR (303)\n",
      "2024-09-07 18:55:36.290266: I tensorflow/stream_executor/cuda/cuda_diagnostics.cc:156] kernel driver does not appear to be running on this host (jupyterlab-f20212662): /proc/driver/nvidia/version does not exist\n",
      "2024-09-07 18:55:36.290959: I tensorflow/core/platform/cpu_feature_guard.cc:193] This TensorFlow binary is optimized with oneAPI Deep Neural Network Library (oneDNN) to use the following CPU instructions in performance-critical operations:  AVX2 AVX512F AVX512_VNNI FMA\n",
      "To enable them in other operations, rebuild TensorFlow with the appropriate compiler flags.\n"
     ]
    },
    {
     "data": {
      "text/plain": [
       "<tf.Tensor: shape=(30, 20, 200), dtype=float32, numpy=\n",
       "array([[[-0.03303285,  0.04550595,  0.02635593, ..., -0.03373792,\n",
       "         -0.03301898,  0.04693324],\n",
       "        [ 0.03060926, -0.00778925,  0.01755177, ..., -0.04819609,\n",
       "         -0.0009581 ,  0.01918862],\n",
       "        [-0.02990305, -0.03806866, -0.01527294, ..., -0.03845165,\n",
       "          0.00396834,  0.04605493],\n",
       "        ...,\n",
       "        [-0.04404416, -0.03836455, -0.02588317, ...,  0.03986362,\n",
       "          0.03557045, -0.03410584],\n",
       "        [ 0.01747118,  0.02490399,  0.03952075, ..., -0.00704776,\n",
       "          0.01404694, -0.00174046],\n",
       "        [ 0.04171951,  0.04736848, -0.02464779, ...,  0.00739775,\n",
       "          0.03839823, -0.02656032]],\n",
       "\n",
       "       [[-0.00329496, -0.02731415,  0.04058916, ...,  0.03055847,\n",
       "         -0.04470536, -0.0202759 ],\n",
       "        [-0.03175355,  0.01186936, -0.02319854, ...,  0.01457368,\n",
       "          0.0402864 ,  0.00397621],\n",
       "        [-0.00791721, -0.04425069, -0.02926809, ..., -0.03081297,\n",
       "          0.01375997, -0.04591036],\n",
       "        ...,\n",
       "        [ 0.04637699, -0.01893396,  0.00170719, ...,  0.01980736,\n",
       "          0.0285404 , -0.04990761],\n",
       "        [ 0.03492873, -0.03406356,  0.02341329, ...,  0.01247984,\n",
       "          0.00942142, -0.01676906],\n",
       "        [-0.0050435 , -0.02064619,  0.04305864, ..., -0.00260872,\n",
       "         -0.01706833, -0.03559531]],\n",
       "\n",
       "       [[-0.00206932,  0.04301334, -0.01491471, ..., -0.01763718,\n",
       "         -0.0470008 , -0.04794168],\n",
       "        [ 0.03681258, -0.00148799, -0.03177875, ...,  0.01292164,\n",
       "          0.04593226, -0.01551237],\n",
       "        [-0.0348034 , -0.03809881,  0.02581075, ..., -0.00140008,\n",
       "         -0.0066592 ,  0.01152811],\n",
       "        ...,\n",
       "        [ 0.01719708, -0.02023947,  0.0026324 , ...,  0.0314281 ,\n",
       "          0.03710749,  0.04446412],\n",
       "        [ 0.02375362,  0.00870181,  0.0211983 , ..., -0.01935558,\n",
       "          0.0121832 ,  0.04509909],\n",
       "        [ 0.03258367,  0.01985427,  0.01875928, ...,  0.04748973,\n",
       "         -0.0057038 ,  0.03379086]],\n",
       "\n",
       "       ...,\n",
       "\n",
       "       [[ 0.01991763, -0.00817987, -0.03373406, ..., -0.01270658,\n",
       "         -0.01847734, -0.04045774],\n",
       "        [ 0.00401432,  0.01141484,  0.0379152 , ...,  0.02495852,\n",
       "          0.04721656,  0.03479201],\n",
       "        [-0.00593019,  0.02942294,  0.04681349, ..., -0.04199886,\n",
       "         -0.04248252,  0.03134746],\n",
       "        ...,\n",
       "        [ 0.03755173,  0.02603102, -0.02359842, ...,  0.00436274,\n",
       "         -0.02331891, -0.04719155],\n",
       "        [ 0.00501626, -0.03395939, -0.02207038, ..., -0.04954107,\n",
       "         -0.01998836, -0.01882752],\n",
       "        [-0.04199095, -0.0005722 ,  0.01657752, ..., -0.00572104,\n",
       "          0.04160304, -0.04960965]],\n",
       "\n",
       "       [[-0.03769119, -0.01717329,  0.04879164, ...,  0.03613145,\n",
       "         -0.03882415,  0.04473038],\n",
       "        [-0.00522975, -0.02819258,  0.04919714, ...,  0.03408155,\n",
       "          0.03130661, -0.04892949],\n",
       "        [-0.0348034 , -0.03809881,  0.02581075, ..., -0.00140008,\n",
       "         -0.0066592 ,  0.01152811],\n",
       "        ...,\n",
       "        [ 0.03681102, -0.00566028, -0.01555939, ..., -0.01276324,\n",
       "          0.04608831, -0.00508012],\n",
       "        [-0.03175355,  0.01186936, -0.02319854, ...,  0.01457368,\n",
       "          0.0402864 ,  0.00397621],\n",
       "        [-0.04258462, -0.0250654 , -0.03038253, ..., -0.01522921,\n",
       "         -0.03949423, -0.01378645]],\n",
       "\n",
       "       [[-0.03471372, -0.04878162,  0.03621669, ...,  0.01112651,\n",
       "         -0.03339223,  0.04167291],\n",
       "        [ 0.02434101, -0.04170142,  0.01368606, ...,  0.00886672,\n",
       "          0.00592686,  0.02281706],\n",
       "        [-0.00864915, -0.02546289, -0.03499673, ..., -0.02591466,\n",
       "         -0.0185234 , -0.04155811],\n",
       "        ...,\n",
       "        [ 0.00959847,  0.01998701, -0.01381435, ..., -0.04634529,\n",
       "          0.00579728, -0.03985801],\n",
       "        [-0.02853725,  0.00364616,  0.04006047, ...,  0.00352249,\n",
       "          0.03914621, -0.03380909],\n",
       "        [ 0.01866733,  0.0428061 , -0.02700207, ..., -0.01706593,\n",
       "         -0.00101824, -0.03016639]]], dtype=float32)>"
      ]
     },
     "execution_count": 16,
     "metadata": {},
     "output_type": "execute_result"
    }
   ],
   "source": [
    "# Define where to get the data for our embeddings from\n",
    "inputs = embedding_layer(_input_data)\n",
    "inputs"
   ]
  },
  {
   "cell_type": "markdown",
   "metadata": {},
   "source": [
    "<h3>Constructing Recurrent Neural Networks</h3>\n"
   ]
  },
  {
   "cell_type": "markdown",
   "metadata": {},
   "source": [
    "In this step, we create the stacked LSTM using <b>tf.keras.layers.StackedRNNCells</b>, which is a 2 layer LSTM network:\n"
   ]
  },
  {
   "cell_type": "code",
   "execution_count": 17,
   "metadata": {
    "tags": []
   },
   "outputs": [],
   "source": [
    "lstm_cell_l1 = tf.keras.layers.LSTMCell(hidden_size_l1)\n",
    "lstm_cell_l2 = tf.keras.layers.LSTMCell(hidden_size_l2)"
   ]
  },
  {
   "cell_type": "code",
   "execution_count": 18,
   "metadata": {
    "tags": []
   },
   "outputs": [],
   "source": [
    "stacked_lstm = tf.keras.layers.StackedRNNCells([lstm_cell_l1, lstm_cell_l2])"
   ]
  },
  {
   "cell_type": "markdown",
   "metadata": {},
   "source": [
    "<b>tf.keras.layers.RNN</b> creates a recurrent neural network using <b>stacked_lstm</b>. \n",
    "\n",
    "The input should be a Tensor of shape: [batch_size, max_time, embedding_vector_size], in our case it would be (30, 20, 200)\n"
   ]
  },
  {
   "cell_type": "code",
   "execution_count": 19,
   "metadata": {
    "tags": []
   },
   "outputs": [],
   "source": [
    "layer  =  tf.keras.layers.RNN(stacked_lstm,[batch_size, num_steps],return_state=False,stateful=True,trainable=True)"
   ]
  },
  {
   "cell_type": "markdown",
   "metadata": {},
   "source": [
    "Also, we initialize the states of the nework:\n",
    "\n",
    "<h4>_initial_state</h4>\n",
    "\n",
    "For each LSTM, there are 2 state matrices, c\\_state and m\\_state.  c_state and m_state represent \"Memory State\" and \"Cell State\". Each hidden layer, has a vector of size 30, which keeps the states. so, for 200 hidden units in each LSTM, we have a matrix of size [30x200]\n"
   ]
  },
  {
   "cell_type": "code",
   "execution_count": 20,
   "metadata": {
    "tags": []
   },
   "outputs": [],
   "source": [
    "init_state = tf.Variable(tf.zeros([batch_size,embeding_vector_size]),trainable=False)"
   ]
  },
  {
   "cell_type": "code",
   "execution_count": 21,
   "metadata": {
    "tags": []
   },
   "outputs": [],
   "source": [
    "layer.inital_state = init_state"
   ]
  },
  {
   "cell_type": "code",
   "execution_count": 22,
   "metadata": {
    "tags": []
   },
   "outputs": [
    {
     "data": {
      "text/plain": [
       "<tf.Variable 'Variable:0' shape=(30, 200) dtype=float32, numpy=\n",
       "array([[0., 0., 0., ..., 0., 0., 0.],\n",
       "       [0., 0., 0., ..., 0., 0., 0.],\n",
       "       [0., 0., 0., ..., 0., 0., 0.],\n",
       "       ...,\n",
       "       [0., 0., 0., ..., 0., 0., 0.],\n",
       "       [0., 0., 0., ..., 0., 0., 0.],\n",
       "       [0., 0., 0., ..., 0., 0., 0.]], dtype=float32)>"
      ]
     },
     "execution_count": 22,
     "metadata": {},
     "output_type": "execute_result"
    }
   ],
   "source": [
    "layer.inital_state"
   ]
  },
  {
   "cell_type": "markdown",
   "metadata": {},
   "source": [
    "so, lets look at the outputs. The output of the stackedLSTM comes from 128 hidden_layer, and in each time step(=20), one of them get activated. we use the linear activation to map the 128 hidden layer to a [30X20 matrix]\n"
   ]
  },
  {
   "cell_type": "code",
   "execution_count": 23,
   "metadata": {
    "tags": []
   },
   "outputs": [],
   "source": [
    "outputs = layer(inputs)"
   ]
  },
  {
   "cell_type": "code",
   "execution_count": 24,
   "metadata": {
    "tags": []
   },
   "outputs": [
    {
     "data": {
      "text/plain": [
       "<tf.Tensor: shape=(30, 20, 128), dtype=float32, numpy=\n",
       "array([[[-1.14459115e-04,  9.29922797e-04, -7.38828036e-04, ...,\n",
       "         -5.44878596e-04, -8.35778017e-04, -1.99477130e-04],\n",
       "        [-7.81473937e-04,  1.57364737e-03, -1.91256870e-03, ...,\n",
       "          9.32217343e-04, -1.30884245e-03, -3.63224972e-04],\n",
       "        [-6.49549009e-04,  1.74611912e-03, -2.41683866e-03, ...,\n",
       "          1.16853544e-03, -1.03965460e-03, -3.42442159e-04],\n",
       "        ...,\n",
       "        [ 2.22398620e-03, -1.22737780e-03, -1.58430578e-03, ...,\n",
       "          5.02580218e-03, -3.74040008e-03, -1.20616879e-03],\n",
       "        [ 2.44417251e-03, -1.52272079e-03, -2.42162053e-03, ...,\n",
       "          4.75937407e-03, -3.18120513e-03,  1.12267435e-05],\n",
       "        [ 1.60707117e-04, -4.75076289e-04, -3.87976109e-03, ...,\n",
       "          5.30972052e-03, -3.57101788e-03,  6.40938350e-04]],\n",
       "\n",
       "       [[-4.89330909e-04,  3.12127464e-04,  5.79672051e-04, ...,\n",
       "         -1.76718677e-05, -3.53207433e-05, -1.28073466e-03],\n",
       "        [ 4.19906544e-04,  1.19713077e-03,  9.64708568e-04, ...,\n",
       "          1.00699358e-03, -4.16645235e-05, -1.28729397e-03],\n",
       "        [ 1.15498505e-03,  4.57158661e-04,  1.87909068e-03, ...,\n",
       "          1.39216369e-03, -1.44099211e-03, -1.24044390e-03],\n",
       "        ...,\n",
       "        [ 1.58779463e-03, -1.54805277e-03,  4.48849564e-03, ...,\n",
       "          2.63121561e-03,  2.13682349e-03,  3.50194727e-03],\n",
       "        [ 1.12852070e-03, -1.03580416e-03,  4.08387557e-03, ...,\n",
       "          1.85627933e-03,  1.70582754e-03,  4.99564735e-03],\n",
       "        [ 1.54536613e-03, -5.70574368e-04,  5.40627120e-03, ...,\n",
       "          1.37127389e-03,  1.28708035e-03,  6.78928941e-03]],\n",
       "\n",
       "       [[-1.68763695e-03,  3.27418355e-04, -3.01873428e-04, ...,\n",
       "         -1.51453586e-03,  5.81474684e-04,  4.67162754e-04],\n",
       "        [-1.66706485e-03,  2.04419624e-03,  8.01121700e-04, ...,\n",
       "         -1.81996380e-03,  1.04731787e-03, -7.57294765e-04],\n",
       "        [-1.18025707e-03,  2.92439293e-03,  1.46691955e-03, ...,\n",
       "         -3.47381597e-03,  2.01287284e-03, -7.16067152e-04],\n",
       "        ...,\n",
       "        [-1.16834254e-03,  3.48662701e-03, -2.23356741e-03, ...,\n",
       "          5.16617997e-03, -7.81462411e-04, -1.82593986e-03],\n",
       "        [-6.78720477e-04,  4.76631615e-03, -2.39242334e-03, ...,\n",
       "          5.54047059e-03, -7.90629187e-04, -3.37822246e-03],\n",
       "        [-5.32499747e-04,  5.21601085e-03, -2.75074784e-03, ...,\n",
       "          5.78042073e-03, -1.05477462e-03, -3.89200402e-03]],\n",
       "\n",
       "       ...,\n",
       "\n",
       "       [[-6.39791018e-04,  2.84564478e-04,  1.26242545e-03, ...,\n",
       "          9.90608591e-04,  5.31050609e-04, -8.60617089e-04],\n",
       "        [-6.16254576e-04,  8.06307537e-04,  1.83434191e-03, ...,\n",
       "          6.90251589e-04,  1.70111214e-03, -1.66459417e-03],\n",
       "        [-2.60178931e-03,  9.84021346e-04,  1.01821800e-03, ...,\n",
       "          3.59015947e-04,  1.84267084e-03, -6.30867667e-04],\n",
       "        ...,\n",
       "        [-1.86815404e-03,  8.55046324e-03, -2.38327170e-03, ...,\n",
       "          4.10978030e-03,  9.94343427e-04, -3.53685138e-03],\n",
       "        [-1.45727885e-03,  7.19809951e-03, -1.93286152e-03, ...,\n",
       "          3.89820314e-03,  1.42820727e-03, -3.47057846e-03],\n",
       "        [-3.75682575e-04,  6.45303819e-03, -1.15157629e-03, ...,\n",
       "          3.60914948e-03,  6.11520663e-04, -4.33380622e-03]],\n",
       "\n",
       "       [[ 5.04288357e-04, -2.96739308e-04, -7.78297952e-04, ...,\n",
       "          1.06426456e-03, -6.87448133e-04,  1.46428635e-03],\n",
       "        [ 1.93490763e-03, -1.15256337e-03, -1.06754620e-03, ...,\n",
       "          1.27997075e-03, -7.01594341e-04,  2.65229261e-03],\n",
       "        [ 2.68253661e-03, -1.11287239e-03, -9.39384976e-04, ...,\n",
       "         -6.47911336e-04, -1.17060161e-04,  3.65055096e-03],\n",
       "        ...,\n",
       "        [ 5.98263228e-03,  7.19061936e-04,  3.79858399e-03, ...,\n",
       "          3.59643693e-03, -1.42312841e-03,  3.81011254e-04],\n",
       "        [ 7.72453751e-03,  8.07482109e-04,  4.23322618e-03, ...,\n",
       "          5.06570749e-03, -1.46647322e-03,  3.25798028e-04],\n",
       "        [ 7.54543906e-03,  3.21019557e-04,  3.40827508e-03, ...,\n",
       "          6.64850883e-03, -3.19534331e-03,  7.13134883e-04]],\n",
       "\n",
       "       [[ 3.42598942e-05, -9.74235823e-04,  8.90317373e-04, ...,\n",
       "         -5.71337878e-04, -7.75205845e-04, -7.78913382e-04],\n",
       "        [ 8.66707778e-05, -1.04964187e-03,  1.26455911e-03, ...,\n",
       "          5.82056819e-04, -1.33346673e-03, -1.71183737e-03],\n",
       "        [-1.13501004e-03, -2.73351150e-04,  1.09930162e-03, ...,\n",
       "          1.00693840e-03, -1.95399625e-03, -1.76742754e-03],\n",
       "        ...,\n",
       "        [ 4.26462432e-03,  1.61541265e-03, -8.04475788e-03, ...,\n",
       "         -5.42722084e-03,  2.57195812e-03, -7.06950887e-05],\n",
       "        [ 3.71565740e-03,  1.23256410e-03, -6.85650064e-03, ...,\n",
       "         -4.46375599e-03,  3.54393409e-03, -7.64914032e-04],\n",
       "        [ 2.79457751e-03,  1.45016471e-03, -6.97935838e-03, ...,\n",
       "         -4.50513093e-03,  3.48535297e-03, -5.36215608e-04]]],\n",
       "      dtype=float32)>"
      ]
     },
     "execution_count": 24,
     "metadata": {},
     "output_type": "execute_result"
    }
   ],
   "source": [
    "outputs"
   ]
  },
  {
   "cell_type": "markdown",
   "metadata": {},
   "source": [
    "<h2>Dense layer</h2>\n",
    "We now create densely-connected neural network layer that would reshape the outputs tensor from  [30 x 20 x 128] to [30 x 20 x 10000].\n"
   ]
  },
  {
   "cell_type": "code",
   "execution_count": 25,
   "metadata": {
    "tags": []
   },
   "outputs": [],
   "source": [
    "dense = tf.keras.layers.Dense(vocab_size)"
   ]
  },
  {
   "cell_type": "code",
   "execution_count": 26,
   "metadata": {
    "tags": []
   },
   "outputs": [],
   "source": [
    "logits_outputs  = dense(outputs)"
   ]
  },
  {
   "cell_type": "code",
   "execution_count": 27,
   "metadata": {
    "tags": []
   },
   "outputs": [
    {
     "name": "stdout",
     "output_type": "stream",
     "text": [
      "shape of the output from dense layer:  (30, 20, 10000)\n"
     ]
    }
   ],
   "source": [
    "print(\"shape of the output from dense layer: \", logits_outputs.shape) #(batch_size, sequence_length, vocab_size)"
   ]
  },
  {
   "cell_type": "markdown",
   "metadata": {},
   "source": [
    "<h2>Activation layer</h2>\n",
    "\n",
    "\n",
    "A softmax activation layers is also then applied to derive the probability of the output being in any of the multiclass(10000 in this case) possibilities. \n"
   ]
  },
  {
   "cell_type": "code",
   "execution_count": 28,
   "metadata": {
    "tags": []
   },
   "outputs": [],
   "source": [
    "activation = tf.keras.layers.Activation('softmax')"
   ]
  },
  {
   "cell_type": "code",
   "execution_count": 29,
   "metadata": {
    "tags": []
   },
   "outputs": [],
   "source": [
    "output_words_prob = activation(logits_outputs)"
   ]
  },
  {
   "cell_type": "code",
   "execution_count": 30,
   "metadata": {
    "tags": []
   },
   "outputs": [
    {
     "name": "stdout",
     "output_type": "stream",
     "text": [
      "shape of the output from the activation layer:  (30, 20, 10000)\n"
     ]
    }
   ],
   "source": [
    "print(\"shape of the output from the activation layer: \", output_words_prob.shape) #(batch_size, sequence_length, vocab_size)"
   ]
  },
  {
   "cell_type": "markdown",
   "metadata": {},
   "source": [
    "Lets look at the probability of observing words for t=0 to t=20:\n"
   ]
  },
  {
   "cell_type": "code",
   "execution_count": 31,
   "metadata": {
    "tags": []
   },
   "outputs": [
    {
     "name": "stdout",
     "output_type": "stream",
     "text": [
      "The probability of observing words in t=0 to t=20 tf.Tensor(\n",
      "[[9.99889307e-05 1.00014455e-04 9.99942567e-05 ... 1.00008845e-04\n",
      "  9.99729964e-05 9.99937984e-05]\n",
      " [9.99731201e-05 1.00028767e-04 9.99876574e-05 ... 1.00013232e-04\n",
      "  9.99475669e-05 9.99822951e-05]\n",
      " [9.99644981e-05 1.00022829e-04 9.99973563e-05 ... 1.00035548e-04\n",
      "  9.99314434e-05 9.99703043e-05]\n",
      " ...\n",
      " [9.99143958e-05 1.00013494e-04 1.00049139e-04 ... 9.99552140e-05\n",
      "  1.00068435e-04 9.99954136e-05]\n",
      " [9.99084732e-05 9.99858312e-05 1.00051271e-04 ... 9.99634867e-05\n",
      "  1.00033350e-04 9.99763870e-05]\n",
      " [9.99102922e-05 9.99860931e-05 1.00034027e-04 ... 9.99465192e-05\n",
      "  1.00020581e-04 9.99778204e-05]], shape=(20, 10000), dtype=float32)\n"
     ]
    }
   ],
   "source": [
    "print(\"The probability of observing words in t=0 to t=20\", output_words_prob[0,0:num_steps])"
   ]
  },
  {
   "cell_type": "markdown",
   "metadata": {},
   "source": [
    "<h3>Prediction</h3>\n",
    "What is the word correspond to the probability output? Lets use the maximum probability:\n"
   ]
  },
  {
   "cell_type": "code",
   "execution_count": 32,
   "metadata": {
    "tags": []
   },
   "outputs": [
    {
     "data": {
      "text/plain": [
       "array([3575, 8937, 9475, 9475, 7651, 7651, 7651, 7651, 7651, 1327, 1526,\n",
       "       5105, 2596, 2596, 7210, 7210, 2596, 5317, 4125, 4125])"
      ]
     },
     "execution_count": 32,
     "metadata": {},
     "output_type": "execute_result"
    }
   ],
   "source": [
    "np.argmax(output_words_prob[0,0:num_steps], axis=1)"
   ]
  },
  {
   "cell_type": "markdown",
   "metadata": {},
   "source": [
    "So, what is the ground truth for the first word of first sentence? You can get it from target tensor, if you want to find the embedding vector: \n"
   ]
  },
  {
   "cell_type": "code",
   "execution_count": 33,
   "metadata": {
    "tags": []
   },
   "outputs": [
    {
     "data": {
      "text/plain": [
       "array([9971, 9972, 9974, 9975, 9976, 9980, 9981, 9982, 9983, 9984, 9986,\n",
       "       9987, 9988, 9989, 9991, 9992, 9993, 9994, 9995, 9996], dtype=int32)"
      ]
     },
     "execution_count": 33,
     "metadata": {},
     "output_type": "execute_result"
    }
   ],
   "source": [
    "_targets[0]"
   ]
  },
  {
   "cell_type": "markdown",
   "metadata": {},
   "source": [
    "<h4>Objective function</h4>\n",
    "\n",
    "\n",
    "How similar the predicted words are to the target words?\n",
    "\n",
    "\n",
    "Now we have to define our objective function, to calculate the similarity of predicted values to ground truth, and then, penalize the model with the error. Our objective is to minimize loss function, that is, to minimize the average negative log probability of the target words:\n",
    "\n",
    "$$\\text{loss} = -\\frac{1}{N}\\sum_{i=1}^{N} \\ln p_{\\text{target}_i}$$\n",
    "\n",
    "This function is already implemented and available in TensorFlow through *tf.keras.losses.sparse_categorical_crossentropy*. It calculates the categorical cross-entropy loss for <b>logits</b> and the <b>target</b> sequence.  \n",
    "\n",
    "The arguments of this function are:  \n",
    "<ul>\n",
    "    <li>logits: List of 2D Tensors of shape [batch_size x num_decoder_symbols].</li>  \n",
    "    <li>targets: List of 1D batch-sized int32 Tensors of the same length as logits.</li>   \n",
    "</ul>\n"
   ]
  },
  {
   "cell_type": "code",
   "execution_count": 34,
   "metadata": {
    "tags": []
   },
   "outputs": [],
   "source": [
    "def crossentropy(y_true, y_pred):\n",
    "    return tf.keras.losses.sparse_categorical_crossentropy(y_true, y_pred)"
   ]
  },
  {
   "cell_type": "code",
   "execution_count": 35,
   "metadata": {
    "tags": []
   },
   "outputs": [],
   "source": [
    "loss  = crossentropy(_targets, output_words_prob)"
   ]
  },
  {
   "cell_type": "markdown",
   "metadata": {},
   "source": [
    "Lets look at the first 10 values of loss:\n"
   ]
  },
  {
   "cell_type": "code",
   "execution_count": 36,
   "metadata": {
    "tags": []
   },
   "outputs": [
    {
     "data": {
      "text/plain": [
       "<tf.Tensor: shape=(10,), dtype=float32, numpy=\n",
       "array([9.210332 , 9.210382 , 9.2110815, 9.210063 , 9.210382 , 9.209932 ,\n",
       "       9.209667 , 9.21017  , 9.210287 , 9.210031 ], dtype=float32)>"
      ]
     },
     "execution_count": 36,
     "metadata": {},
     "output_type": "execute_result"
    }
   ],
   "source": [
    "loss[0,:10]"
   ]
  },
  {
   "cell_type": "markdown",
   "metadata": {},
   "source": [
    "Now, we define cost as average of the losses:\n"
   ]
  },
  {
   "cell_type": "code",
   "execution_count": 37,
   "metadata": {
    "tags": []
   },
   "outputs": [
    {
     "data": {
      "text/plain": [
       "<tf.Tensor: shape=(), dtype=float32, numpy=184.20676>"
      ]
     },
     "execution_count": 37,
     "metadata": {},
     "output_type": "execute_result"
    }
   ],
   "source": [
    "cost = tf.reduce_sum(loss / batch_size)\n",
    "cost"
   ]
  },
  {
   "cell_type": "markdown",
   "metadata": {},
   "source": [
    "<h3>Training</h3>\n",
    "\n",
    "To do training for our network, we have to take the following steps:\n",
    "<ol>\n",
    "    <li>Define the optimizer.</li>\n",
    "    <li>Assemble layers to build model.</li>\n",
    "    <li>Calculate the gradients based on the loss function.</li>\n",
    "    <li>Apply the optimizer to the variables/gradients tuple.</li>\n",
    "</ol>\n"
   ]
  },
  {
   "cell_type": "markdown",
   "metadata": {},
   "source": [
    "<h4>1. Define Optimizer</h4>\n",
    "\n"
   ]
  },
  {
   "cell_type": "code",
   "execution_count": 38,
   "metadata": {
    "tags": []
   },
   "outputs": [
    {
     "name": "stderr",
     "output_type": "stream",
     "text": [
      "/home/jupyterlab/conda/envs/python/lib/python3.7/site-packages/keras/optimizers/optimizer_v2/gradient_descent.py:108: UserWarning: The `lr` argument is deprecated, use `learning_rate` instead.\n",
      "  super(SGD, self).__init__(name, **kwargs)\n"
     ]
    }
   ],
   "source": [
    "# Create a variable for the learning rate\n",
    "lr = tf.Variable(0.0, trainable=False)\n",
    "optimizer = tf.keras.optimizers.SGD(lr=lr, clipnorm=max_grad_norm)"
   ]
  },
  {
   "cell_type": "markdown",
   "metadata": {},
   "source": [
    "<h4>2. Assemble layers to build model.</h4>\n"
   ]
  },
  {
   "cell_type": "code",
   "execution_count": 39,
   "metadata": {
    "tags": []
   },
   "outputs": [
    {
     "name": "stdout",
     "output_type": "stream",
     "text": [
      "Model: \"sequential\"\n",
      "_________________________________________________________________\n",
      " Layer (type)                Output Shape              Param #   \n",
      "=================================================================\n",
      " embedding_vocab (Embedding)  (30, 20, 200)            2000000   \n",
      "                                                                 \n",
      " rnn (RNN)                   (30, 20, 128)             671088    \n",
      "                                                                 \n",
      " dense (Dense)               (30, 20, 10000)           1290000   \n",
      "                                                                 \n",
      " activation (Activation)     (30, 20, 10000)           0         \n",
      "                                                                 \n",
      "=================================================================\n",
      "Total params: 3,961,088\n",
      "Trainable params: 3,955,088\n",
      "Non-trainable params: 6,000\n",
      "_________________________________________________________________\n"
     ]
    }
   ],
   "source": [
    "model = tf.keras.Sequential()\n",
    "model.add(embedding_layer)\n",
    "model.add(layer)\n",
    "model.add(dense)\n",
    "model.add(activation)\n",
    "model.compile(loss=crossentropy, optimizer=optimizer)\n",
    "model.summary()"
   ]
  },
  {
   "cell_type": "markdown",
   "metadata": {},
   "source": [
    "\n",
    "<h4>2. Trainable Variables</h4>\n"
   ]
  },
  {
   "cell_type": "markdown",
   "metadata": {},
   "source": [
    "Defining a variable, if you passed <i>trainable=True</i>, the variable constructor automatically adds new variables to the graph collection <b>GraphKeys.TRAINABLE_VARIABLES</b>. Now, using <i>tf.trainable_variables()</i> you can get all variables created with <b>trainable=True</b>.\n"
   ]
  },
  {
   "cell_type": "code",
   "execution_count": 40,
   "metadata": {
    "tags": []
   },
   "outputs": [],
   "source": [
    "# Get all TensorFlow variables marked as \"trainable\" (i.e. all of them except _lr, which we just created)\n",
    "tvars = model.trainable_variables"
   ]
  },
  {
   "cell_type": "markdown",
   "metadata": {},
   "source": [
    "Note: we can find the name and scope of all variables:\n"
   ]
  },
  {
   "cell_type": "code",
   "execution_count": 41,
   "metadata": {
    "tags": []
   },
   "outputs": [
    {
     "data": {
      "text/plain": [
       "['embedding_vocab/embeddings:0',\n",
       " 'rnn/stacked_rnn_cells/lstm_cell/kernel:0',\n",
       " 'rnn/stacked_rnn_cells/lstm_cell/recurrent_kernel:0',\n",
       " 'rnn/stacked_rnn_cells/lstm_cell/bias:0',\n",
       " 'rnn/stacked_rnn_cells/lstm_cell_1/kernel:0',\n",
       " 'rnn/stacked_rnn_cells/lstm_cell_1/recurrent_kernel:0',\n",
       " 'rnn/stacked_rnn_cells/lstm_cell_1/bias:0',\n",
       " 'dense/kernel:0',\n",
       " 'dense/bias:0']"
      ]
     },
     "execution_count": 41,
     "metadata": {},
     "output_type": "execute_result"
    }
   ],
   "source": [
    "[v.name for v in tvars] "
   ]
  },
  {
   "cell_type": "markdown",
   "metadata": {},
   "source": [
    "<h4>3. Calculate the gradients based on the loss function</h4>\n"
   ]
  },
  {
   "cell_type": "markdown",
   "metadata": {},
   "source": [
    "**Gradient**: The gradient of a function is the slope of its derivative (line), or in other words, the rate of change of a function. It's a vector (a direction to move) that points in the direction of greatest increase of the function, and calculated by the <b>derivative</b> operation.\n"
   ]
  },
  {
   "cell_type": "markdown",
   "metadata": {},
   "source": [
    "First lets recall the gradient function using an toy example:\n",
    "$$ z = \\left(2x^2 + 3xy\\right)$$\n"
   ]
  },
  {
   "cell_type": "code",
   "execution_count": 42,
   "metadata": {
    "tags": []
   },
   "outputs": [],
   "source": [
    "x = tf.constant(1.0)\n",
    "y =  tf.constant(2.0)\n",
    "with tf.GradientTape(persistent=True) as g:\n",
    "    g.watch(x)\n",
    "    g.watch(y)\n",
    "    func_test = 2 * x * x + 3 * x * y"
   ]
  },
  {
   "cell_type": "markdown",
   "metadata": {},
   "source": [
    "The <b>tf.gradients()</b> function allows you to compute the symbolic gradient of one tensor with respect to one or more other tensors—including variables. <b>tf.gradients(func, xs)</b> constructs symbolic partial derivatives of sum of <b>func</b> w.r.t. <i>x</i> in <b>xs</b>. \n",
    "\n",
    "Now, lets look at the derivitive w.r.t. <b>var_x</b>:\n",
    "$$ \\frac{\\partial \\:}{\\partial \\:x}\\left(2x^2 + 3xy\\right) = 4x + 3y $$\n"
   ]
  },
  {
   "cell_type": "code",
   "execution_count": 43,
   "metadata": {
    "tags": []
   },
   "outputs": [
    {
     "name": "stdout",
     "output_type": "stream",
     "text": [
      "tf.Tensor(10.0, shape=(), dtype=float32)\n"
     ]
    }
   ],
   "source": [
    "var_grad = g.gradient(func_test, x) # Will compute to 10.0\n",
    "print(var_grad)"
   ]
  },
  {
   "cell_type": "markdown",
   "metadata": {},
   "source": [
    "the derivative w.r.t. <b>var_y</b>:\n",
    "$$ \\frac{\\partial \\:}{\\partial \\:y}\\left(2x^2 + 3xy\\right) = 3x $$\n"
   ]
  },
  {
   "cell_type": "code",
   "execution_count": 44,
   "metadata": {
    "tags": []
   },
   "outputs": [
    {
     "name": "stdout",
     "output_type": "stream",
     "text": [
      "tf.Tensor(3.0, shape=(), dtype=float32)\n"
     ]
    }
   ],
   "source": [
    "var_grad = g.gradient(func_test, y) # Will compute to 3.0\n",
    "print(var_grad)"
   ]
  },
  {
   "cell_type": "markdown",
   "metadata": {},
   "source": [
    "Now, we can look at gradients w.r.t all variables:\n"
   ]
  },
  {
   "cell_type": "code",
   "execution_count": 45,
   "metadata": {
    "tags": []
   },
   "outputs": [],
   "source": [
    "with tf.GradientTape() as tape:\n",
    "    # Forward pass.\n",
    "    output_words_prob = model(_input_data)\n",
    "    # Loss value for this batch.\n",
    "    loss  = crossentropy(_targets, output_words_prob)\n",
    "    cost = tf.reduce_sum(loss,axis=0) / batch_size"
   ]
  },
  {
   "cell_type": "code",
   "execution_count": 46,
   "metadata": {
    "tags": []
   },
   "outputs": [],
   "source": [
    "# Get gradients of loss wrt the trainable variables.\n",
    "grad_t_list = tape.gradient(cost, tvars)"
   ]
  },
  {
   "cell_type": "code",
   "execution_count": 47,
   "metadata": {
    "tags": []
   },
   "outputs": [
    {
     "name": "stdout",
     "output_type": "stream",
     "text": [
      "[<tensorflow.python.framework.indexed_slices.IndexedSlices object at 0x7fec7fcdf910>, <tf.Tensor: shape=(200, 1024), dtype=float32, numpy=\n",
      "array([[-1.4144054e-07, -5.3663291e-07,  3.3857120e-08, ...,\n",
      "        -1.2602349e-07, -2.0995145e-07,  1.9089057e-08],\n",
      "       [-7.1823030e-07,  9.8466148e-07,  6.2033104e-07, ...,\n",
      "         5.7147150e-07, -1.6694717e-07, -1.2919874e-07],\n",
      "       [-9.3803578e-08,  3.9962035e-07, -4.3879481e-07, ...,\n",
      "        -4.2104068e-07, -2.2356934e-07,  3.7402458e-08],\n",
      "       ...,\n",
      "       [ 5.9400691e-07,  1.7099270e-06,  2.0755877e-07, ...,\n",
      "        -3.6125795e-07, -4.6494460e-08, -3.2713004e-08],\n",
      "       [ 1.4206494e-06,  7.1811144e-09,  3.0278119e-07, ...,\n",
      "        -6.9600253e-07,  3.1337456e-07, -3.1474656e-07],\n",
      "       [-2.2886712e-07, -6.0214035e-07,  2.3575012e-08, ...,\n",
      "         1.5042872e-07, -2.0849015e-08,  1.4974736e-07]], dtype=float32)>, <tf.Tensor: shape=(256, 1024), dtype=float32, numpy=\n",
      "array([[ 4.6081254e-08, -1.5900822e-07,  7.1728678e-08, ...,\n",
      "         9.5109733e-08, -1.9808508e-07,  2.8579059e-08],\n",
      "       [-7.5592077e-08, -9.4150366e-08, -3.6891429e-08, ...,\n",
      "         1.9583684e-08, -2.4421112e-08, -1.5001348e-08],\n",
      "       [ 1.5682832e-07,  1.4720545e-07, -3.4507746e-08, ...,\n",
      "        -1.1633052e-07, -1.8664004e-08, -8.4644611e-08],\n",
      "       ...,\n",
      "       [-2.0954651e-08, -1.2132483e-07, -7.0282582e-08, ...,\n",
      "         2.5627543e-07, -2.2108949e-07, -6.1675948e-08],\n",
      "       [ 1.0189176e-07, -1.7014358e-07, -2.7277840e-08, ...,\n",
      "        -1.3108993e-07,  1.6769960e-07, -1.3789548e-07],\n",
      "       [-9.6157279e-08, -8.6991122e-08, -3.8882771e-08, ...,\n",
      "         2.3261984e-08, -1.7141319e-07,  6.2954747e-08]], dtype=float32)>, <tf.Tensor: shape=(1024,), dtype=float32, numpy=\n",
      "array([ 2.1429172e-05,  9.5630558e-06, -6.6568227e-06, ...,\n",
      "       -2.5547135e-05,  1.1095638e-05, -3.5950958e-05], dtype=float32)>, <tf.Tensor: shape=(256, 512), dtype=float32, numpy=\n",
      "array([[-8.7921116e-08, -5.8405618e-07, -6.8787138e-08, ...,\n",
      "        -7.3363481e-07,  2.9518355e-07,  1.3820016e-07],\n",
      "       [-1.4577962e-07,  6.1931608e-08, -8.7074383e-08, ...,\n",
      "        -1.7790295e-07, -3.4799815e-08,  1.2125500e-07],\n",
      "       [ 3.0443946e-08,  4.8628306e-07, -5.3453967e-08, ...,\n",
      "         6.4595412e-08, -1.6593327e-07,  3.4224271e-08],\n",
      "       ...,\n",
      "       [-5.0514974e-08, -5.3128429e-07, -2.0873182e-07, ...,\n",
      "        -4.0463749e-07, -2.0433741e-07, -7.1990229e-08],\n",
      "       [ 1.3427001e-07,  4.5979462e-07,  2.4305265e-08, ...,\n",
      "         4.1422663e-07, -2.0223982e-07,  6.4581243e-08],\n",
      "       [ 1.3160849e-07, -2.2621148e-07,  8.9444967e-08, ...,\n",
      "        -3.0409956e-07,  8.3471534e-08,  9.6492286e-08]], dtype=float32)>, <tf.Tensor: shape=(128, 512), dtype=float32, numpy=\n",
      "array([[-1.65818562e-07,  2.48943479e-07,  7.95436961e-08, ...,\n",
      "         1.50761039e-07, -2.87235959e-08,  1.95922993e-07],\n",
      "       [ 6.55324328e-08, -6.06313279e-07, -5.98018843e-08, ...,\n",
      "        -3.82182236e-07,  4.77599507e-08,  9.54121049e-08],\n",
      "       [-3.64060000e-08,  1.77246136e-07, -4.02135498e-08, ...,\n",
      "         9.40529716e-08, -1.71543462e-07,  1.69576609e-07],\n",
      "       ...,\n",
      "       [-1.18437939e-07,  4.38671691e-07, -2.31077291e-08, ...,\n",
      "         5.80940082e-07, -2.27415057e-07,  6.93749946e-09],\n",
      "       [-2.91881364e-08, -9.30798549e-08, -1.17987945e-07, ...,\n",
      "        -5.83819357e-08,  2.59983352e-07, -1.44072416e-08],\n",
      "       [ 7.83960417e-08, -2.23104479e-07, -3.48511513e-08, ...,\n",
      "         2.44079388e-08,  3.44457547e-08,  1.62554898e-07]], dtype=float32)>, <tf.Tensor: shape=(512,), dtype=float32, numpy=\n",
      "array([-1.63153127e-05,  1.15820665e-04,  1.35270830e-05,  4.32377965e-06,\n",
      "       -1.89277871e-05, -1.79278413e-05, -1.39381482e-05, -2.92452796e-06,\n",
      "       -3.78542536e-05,  4.71434250e-05, -3.35913064e-05, -1.39062558e-05,\n",
      "        1.04815017e-05, -4.34458052e-05,  7.86269720e-06,  6.85640725e-06,\n",
      "       -2.81595076e-05, -2.79519663e-05,  3.87245163e-05, -7.56213285e-06,\n",
      "       -4.40851227e-06,  1.66672944e-05, -1.55404086e-05, -2.96484886e-05,\n",
      "       -6.01005704e-05,  1.81706419e-05,  1.32057885e-05, -2.25238364e-05,\n",
      "        2.47433200e-05, -6.36037221e-05, -3.27149719e-05,  1.23659383e-05,\n",
      "        2.42087372e-05, -1.06515996e-04,  5.90789887e-06,  1.00066944e-04,\n",
      "       -1.55798862e-05, -1.62218312e-05,  4.45073383e-05,  3.24152643e-06,\n",
      "        4.93778789e-05,  3.92682086e-05, -2.39216388e-06, -3.11644762e-05,\n",
      "        3.55507873e-05, -2.40175495e-06, -1.49941279e-05, -1.77572510e-05,\n",
      "       -1.30146955e-05,  1.17837517e-05, -5.26132317e-05, -3.84264495e-05,\n",
      "       -1.60907293e-05,  2.91631004e-05,  9.42316092e-08,  6.21471117e-05,\n",
      "        3.13035671e-05, -2.84030721e-05,  1.76308677e-05,  2.44414550e-05,\n",
      "        4.48498758e-05,  3.97902040e-05,  2.23245952e-05, -5.14051135e-05,\n",
      "       -1.80464122e-05, -2.01368639e-05,  4.87778379e-05, -5.35362233e-05,\n",
      "       -1.54215504e-05, -3.13268174e-07, -1.01054920e-05, -2.10837534e-05,\n",
      "       -4.50121206e-06, -1.19378579e-04,  1.00062753e-05,  4.01553734e-06,\n",
      "       -3.03423731e-05, -2.55310879e-05,  1.04254432e-05, -3.24610410e-05,\n",
      "        4.82559772e-05, -2.88913748e-06,  2.31812992e-05, -3.28900023e-05,\n",
      "        1.01040041e-06,  2.49213826e-05,  3.79241865e-05, -2.23240067e-06,\n",
      "       -6.00779822e-06, -3.45910848e-05,  1.67599464e-05,  9.00944906e-06,\n",
      "        6.03870649e-06, -4.53340253e-05, -6.87001875e-06, -1.04513289e-04,\n",
      "        2.72065590e-05, -3.08278977e-05,  1.16976953e-05, -9.69427674e-06,\n",
      "       -2.12626710e-05, -5.12397492e-06,  5.49251636e-05, -9.46356613e-06,\n",
      "       -2.21408845e-05, -1.31775778e-06,  1.49618791e-06,  3.33417338e-05,\n",
      "       -6.24761378e-05,  2.85817760e-06,  1.75118494e-05,  7.30811735e-06,\n",
      "        1.94723980e-05,  1.26878585e-05,  2.11405641e-05,  9.69118992e-05,\n",
      "       -1.75990681e-06, -2.80869644e-05,  1.24658063e-05, -2.89443178e-05,\n",
      "        1.25533252e-05, -3.19791889e-06,  5.01728791e-05,  3.71339775e-06,\n",
      "        1.63634522e-05,  7.40206888e-05, -3.88989974e-05,  3.78624827e-05,\n",
      "       -1.08021486e-05,  1.73873064e-04, -1.86371108e-05, -1.00132092e-06,\n",
      "       -3.78406548e-05, -2.07530720e-05, -2.26404154e-05, -2.89915188e-05,\n",
      "       -5.10689460e-05,  4.82991745e-05, -5.40949950e-05, -2.96748149e-05,\n",
      "        1.52082248e-05, -7.87384633e-05,  9.74092018e-06,  7.98469046e-07,\n",
      "       -1.70726107e-05, -5.66998897e-05,  5.50589757e-05, -2.26377688e-05,\n",
      "       -2.16638291e-05,  1.72109412e-06, -5.40866022e-05, -2.02551491e-05,\n",
      "       -8.27637850e-05,  6.44062084e-06,  2.52163281e-05, -4.55925401e-05,\n",
      "        4.10882494e-05, -8.32976730e-05, -3.34167307e-05,  2.25930307e-05,\n",
      "        3.77472825e-05, -1.37145020e-04, -9.74686191e-06,  1.27930849e-04,\n",
      "       -6.50062429e-06, -2.82751571e-05,  7.59028553e-05,  2.20932907e-05,\n",
      "        7.79439579e-05,  4.90642051e-05, -1.01032429e-05, -2.45409901e-05,\n",
      "        4.54156871e-05, -5.69923395e-06,  1.07983033e-06, -1.76103222e-05,\n",
      "       -1.33518552e-05,  1.35448772e-06, -4.58186005e-05, -6.41795341e-05,\n",
      "       -3.86488900e-05,  5.02355033e-05,  5.15097963e-06,  6.69179426e-05,\n",
      "        1.41443488e-05, -5.14149797e-05,  2.43541872e-05,  4.77159338e-05,\n",
      "        3.74314077e-05,  6.40405633e-05,  3.10578071e-05, -8.61992157e-05,\n",
      "       -1.39123358e-05, -2.35042462e-05,  5.44827526e-05, -5.86260721e-05,\n",
      "        1.01648202e-05,  2.43111990e-05, -1.04500223e-05, -1.57660324e-05,\n",
      "        1.07227816e-05, -1.44814810e-04,  3.23665336e-06, -3.08131393e-06,\n",
      "       -3.96189134e-05, -7.34513151e-06, -8.99228326e-07, -4.55874397e-05,\n",
      "        6.94373593e-05, -2.77071067e-05,  1.79059498e-05, -4.90581006e-05,\n",
      "       -1.00676480e-05, -4.91928949e-06,  5.26299591e-05, -1.92079206e-05,\n",
      "       -7.96464974e-06, -4.46357008e-05,  3.48160429e-05,  3.08007002e-05,\n",
      "        3.06993097e-05, -7.58606984e-05,  1.14396062e-06, -1.05841755e-04,\n",
      "        1.92396092e-05, -2.38528264e-05,  7.82928419e-06, -2.38913217e-05,\n",
      "        1.06660991e-06, -2.05127799e-05,  6.35762335e-05, -1.71338870e-05,\n",
      "        2.02619594e-06,  2.01304683e-05,  3.31977571e-06,  3.28935348e-05,\n",
      "       -9.87356107e-05, -8.19192337e-06, -3.54847566e-06, -2.42815804e-05,\n",
      "        2.27703076e-05,  1.00441985e-05,  1.04692626e-05,  1.51423039e-04,\n",
      "        5.57306612e-06, -3.72583418e-05,  5.32127569e-06, -1.47703167e-05,\n",
      "        6.60795831e-06, -1.82118365e-05,  6.84504776e-05,  1.36554518e-05,\n",
      "        2.62175745e-05,  8.23444207e-05, -7.10847089e-05,  4.44385369e-05,\n",
      "       -1.08606648e-02, -5.49009442e-02, -8.25402886e-03,  7.40976911e-03,\n",
      "        8.94350186e-03, -7.45657249e-04, -2.39004660e-02, -1.65388957e-02,\n",
      "       -3.24303061e-02, -1.89942345e-02,  2.68299989e-02, -2.34189667e-02,\n",
      "        1.23865074e-02,  6.58078119e-02, -2.71661133e-02, -1.52520342e-02,\n",
      "        6.22983389e-02, -3.09185460e-02, -3.73659236e-03,  2.22986750e-02,\n",
      "       -9.64529533e-03, -4.68841055e-03, -2.26537101e-02, -1.12606520e-02,\n",
      "        2.49514058e-02, -5.15158381e-03,  2.57389136e-02, -4.55640070e-02,\n",
      "        2.19038147e-02, -6.15671873e-02,  3.69152501e-02, -8.50291364e-03,\n",
      "        2.44226456e-02, -6.67252913e-02, -1.18963942e-02, -4.18040492e-02,\n",
      "        4.68942076e-02,  1.30924648e-02, -3.59335132e-02, -1.01534138e-02,\n",
      "       -2.50148103e-02,  4.00921702e-02, -2.43770704e-02,  5.74156595e-03,\n",
      "        3.18930740e-03,  1.46285826e-02,  5.23180589e-02, -4.05829027e-03,\n",
      "        1.72994137e-02,  2.78406404e-03, -2.84917583e-03,  2.24693026e-02,\n",
      "        3.00590675e-02,  2.23595537e-02,  2.86203343e-04,  1.96616501e-02,\n",
      "       -1.83405802e-02,  2.91663338e-03,  3.31663564e-02,  2.01827325e-02,\n",
      "        3.42577882e-02,  3.75694856e-02,  1.18059423e-02,  3.86610553e-02,\n",
      "        8.80715437e-03,  1.54321156e-02,  2.26852037e-02, -4.94351313e-02,\n",
      "       -5.25900023e-03,  1.23112965e-02, -6.42205868e-03, -5.79667510e-03,\n",
      "       -5.90271782e-03, -4.48509641e-02,  1.91506967e-02, -1.42669305e-02,\n",
      "        1.68570969e-03,  8.72005709e-03, -2.07642261e-02, -1.62848812e-02,\n",
      "       -1.75218564e-02,  4.03960645e-02, -1.60844214e-02, -3.41167999e-03,\n",
      "        7.42172217e-03, -5.10127097e-02,  3.36335450e-02,  7.51487259e-03,\n",
      "        3.71020436e-02, -4.57595959e-02, -1.38627123e-02, -3.37538980e-02,\n",
      "       -2.96872016e-02, -7.24510197e-03, -5.18170558e-02,  9.77629889e-03,\n",
      "       -1.22499093e-03, -1.02447637e-03,  8.39903951e-04, -2.70102117e-02,\n",
      "       -1.02854948e-02,  1.69619564e-02, -1.55579681e-02, -1.06216571e-03,\n",
      "       -1.83236171e-02, -5.08371219e-02,  1.14078093e-02,  2.36937311e-02,\n",
      "       -1.92405768e-02, -1.73848607e-02, -1.65769085e-02, -6.27855062e-02,\n",
      "       -5.48102101e-03,  8.23136233e-03,  2.65181661e-02, -8.76561627e-02,\n",
      "       -6.43195212e-03,  2.36192159e-03, -2.17329226e-02, -3.28586623e-02,\n",
      "        2.32945662e-02,  8.70627910e-03, -7.06383726e-03, -2.28690486e-02,\n",
      "       -9.66821611e-03,  3.65488827e-02,  3.23986560e-02,  7.31059490e-03,\n",
      "       -1.39427466e-05,  1.37595736e-04,  7.96463064e-06,  4.22647736e-06,\n",
      "       -1.89718012e-05, -1.38380565e-05, -7.79978836e-06, -8.95729590e-06,\n",
      "       -4.90475650e-05,  6.14707897e-05, -4.44971811e-05, -1.70952699e-05,\n",
      "        1.06204770e-05, -4.62660464e-05,  1.53756773e-05,  6.77523349e-06,\n",
      "       -3.72179129e-05, -2.08523415e-05,  4.65451740e-05, -8.70724944e-06,\n",
      "       -1.03313323e-06,  9.58076635e-06, -2.50422818e-05, -3.42614694e-05,\n",
      "       -7.15535280e-05,  1.75990081e-05,  2.65539693e-05, -2.63654310e-05,\n",
      "        2.97585284e-05, -7.62329000e-05, -3.81656137e-05,  1.65149395e-05,\n",
      "        2.07556004e-05, -1.07502688e-04,  1.71069405e-06,  1.06693027e-04,\n",
      "       -2.36484630e-05, -2.19449812e-05,  5.26276526e-05,  1.12243006e-05,\n",
      "        5.75345839e-05,  3.80322745e-05, -8.85891950e-06, -3.34543292e-05,\n",
      "        3.96938194e-05, -2.30435853e-06, -1.22899874e-05, -2.28439130e-05,\n",
      "       -4.79793744e-06,  7.51314747e-06, -5.27221200e-05, -3.70142116e-05,\n",
      "       -2.00120157e-05,  3.62942046e-05,  4.18596665e-06,  7.57509260e-05,\n",
      "        2.69395841e-05, -2.86718005e-05,  1.91138497e-05,  2.10723956e-05,\n",
      "        3.92393631e-05,  3.57044337e-05,  3.63469262e-05, -6.08748742e-05,\n",
      "       -2.53996477e-05, -1.88369922e-05,  4.16764233e-05, -5.13568484e-05,\n",
      "       -1.39980657e-05, -2.83801273e-06, -8.80661355e-06, -2.51717902e-05,\n",
      "       -4.69260704e-06, -1.31570618e-04,  6.83142025e-06,  7.61187948e-07,\n",
      "       -2.62122376e-05, -3.38532263e-05,  2.07430076e-05, -3.90871392e-05,\n",
      "        4.98214977e-05, -5.66408153e-06,  3.30705188e-05, -3.58905963e-05,\n",
      "        1.80548659e-06,  2.22840390e-05,  5.33715356e-05, -5.27039265e-06,\n",
      "       -1.70163421e-05, -4.09755885e-05,  1.61957705e-05,  9.36055403e-06,\n",
      "        4.52294989e-06, -4.65034718e-05, -3.29850900e-06, -1.09300097e-04,\n",
      "        4.01422622e-05, -2.36200540e-05,  5.05797834e-06, -6.67120639e-06,\n",
      "       -1.40086340e-05, -1.13617371e-05,  6.08019291e-05, -1.64880475e-05,\n",
      "       -2.07683315e-05,  6.56794373e-06,  2.14149713e-06,  3.70707130e-05,\n",
      "       -7.69193866e-05,  7.19861964e-06,  1.32300411e-05, -1.91726576e-06,\n",
      "        1.25107963e-05,  1.14080085e-05,  2.42758615e-05,  1.21384437e-04,\n",
      "       -4.10583743e-06, -2.94081674e-05,  1.11884401e-06, -3.86773099e-05,\n",
      "        8.56808856e-06,  7.48753337e-07,  5.69126532e-05,  4.78941638e-06,\n",
      "        2.88845986e-05,  7.43891796e-05, -4.24131431e-05,  4.01304460e-05],\n",
      "      dtype=float32)>, <tf.Tensor: shape=(128, 10000), dtype=float32, numpy=\n",
      "array([[-1.4833939e-03, -1.4064244e-03, -1.4306074e-03, ...,\n",
      "         3.1062436e-06,  3.1028112e-06,  3.1047543e-06],\n",
      "       [ 1.5029904e-03,  3.2125257e-03,  2.2174080e-04, ...,\n",
      "        -1.6460440e-06, -1.6438777e-06, -1.6431258e-06],\n",
      "       [-1.0481037e-03, -8.8634313e-04, -1.5255575e-03, ...,\n",
      "         2.0070061e-06,  2.0045691e-06,  2.0052782e-06],\n",
      "       ...,\n",
      "       [-1.7017813e-03, -2.9602193e-03, -3.2094959e-03, ...,\n",
      "         4.4546327e-06,  4.4488224e-06,  4.4519265e-06],\n",
      "       [ 5.8987236e-04,  1.4726950e-03,  8.9625642e-04, ...,\n",
      "        -1.2447626e-06, -1.2432210e-06, -1.2452176e-06],\n",
      "       [ 5.9515558e-04,  1.3128268e-03,  8.4005762e-04, ...,\n",
      "        -1.2483566e-06, -1.2475158e-06, -1.2473985e-06]], dtype=float32)>, <tf.Tensor: shape=(10000,), dtype=float32, numpy=\n",
      "array([-0.7979987 , -1.0313318 , -1.0313312 , ...,  0.0020011 ,\n",
      "        0.00199928,  0.00200008], dtype=float32)>]\n"
     ]
    }
   ],
   "source": [
    "print(grad_t_list)"
   ]
  },
  {
   "cell_type": "markdown",
   "metadata": {},
   "source": [
    "\n",
    "\n",
    "\n",
    "now, we have a list of tensors, t-list. We can use it to find clipped tensors. <b>clip_by_global_norm</b> clips values of multiple tensors by the ratio of the sum of their norms.\n",
    "\n",
    "<b>clip_by_global_norm</b> get <i>t-list</i> as input and returns 2 things:\n",
    "<ul>\n",
    "    <li>a list of clipped tensors, so called <i>list_clipped</i></li> \n",
    "    <li>the global norm (global_norm) of all tensors in t_list</li> \n",
    "</ul>\n"
   ]
  },
  {
   "cell_type": "code",
   "execution_count": 48,
   "metadata": {
    "tags": []
   },
   "outputs": [
    {
     "data": {
      "text/plain": [
       "[<tensorflow.python.framework.indexed_slices.IndexedSlices at 0x7fecd9b685d0>,\n",
       " <tf.Tensor: shape=(200, 1024), dtype=float32, numpy=\n",
       " array([[-1.4144054e-07, -5.3663291e-07,  3.3857120e-08, ...,\n",
       "         -1.2602349e-07, -2.0995145e-07,  1.9089057e-08],\n",
       "        [-7.1823030e-07,  9.8466148e-07,  6.2033104e-07, ...,\n",
       "          5.7147150e-07, -1.6694717e-07, -1.2919874e-07],\n",
       "        [-9.3803578e-08,  3.9962035e-07, -4.3879481e-07, ...,\n",
       "         -4.2104068e-07, -2.2356934e-07,  3.7402458e-08],\n",
       "        ...,\n",
       "        [ 5.9400691e-07,  1.7099270e-06,  2.0755877e-07, ...,\n",
       "         -3.6125795e-07, -4.6494460e-08, -3.2713004e-08],\n",
       "        [ 1.4206494e-06,  7.1811144e-09,  3.0278119e-07, ...,\n",
       "         -6.9600253e-07,  3.1337456e-07, -3.1474656e-07],\n",
       "        [-2.2886712e-07, -6.0214035e-07,  2.3575012e-08, ...,\n",
       "          1.5042872e-07, -2.0849015e-08,  1.4974736e-07]], dtype=float32)>,\n",
       " <tf.Tensor: shape=(256, 1024), dtype=float32, numpy=\n",
       " array([[ 4.6081254e-08, -1.5900822e-07,  7.1728678e-08, ...,\n",
       "          9.5109733e-08, -1.9808508e-07,  2.8579059e-08],\n",
       "        [-7.5592077e-08, -9.4150366e-08, -3.6891429e-08, ...,\n",
       "          1.9583684e-08, -2.4421112e-08, -1.5001348e-08],\n",
       "        [ 1.5682832e-07,  1.4720545e-07, -3.4507746e-08, ...,\n",
       "         -1.1633052e-07, -1.8664004e-08, -8.4644611e-08],\n",
       "        ...,\n",
       "        [-2.0954651e-08, -1.2132483e-07, -7.0282582e-08, ...,\n",
       "          2.5627543e-07, -2.2108949e-07, -6.1675948e-08],\n",
       "        [ 1.0189176e-07, -1.7014358e-07, -2.7277840e-08, ...,\n",
       "         -1.3108993e-07,  1.6769960e-07, -1.3789548e-07],\n",
       "        [-9.6157279e-08, -8.6991122e-08, -3.8882771e-08, ...,\n",
       "          2.3261984e-08, -1.7141319e-07,  6.2954747e-08]], dtype=float32)>,\n",
       " <tf.Tensor: shape=(1024,), dtype=float32, numpy=\n",
       " array([ 2.1429172e-05,  9.5630558e-06, -6.6568227e-06, ...,\n",
       "        -2.5547135e-05,  1.1095638e-05, -3.5950958e-05], dtype=float32)>,\n",
       " <tf.Tensor: shape=(256, 512), dtype=float32, numpy=\n",
       " array([[-8.7921116e-08, -5.8405618e-07, -6.8787138e-08, ...,\n",
       "         -7.3363481e-07,  2.9518355e-07,  1.3820016e-07],\n",
       "        [-1.4577962e-07,  6.1931608e-08, -8.7074383e-08, ...,\n",
       "         -1.7790295e-07, -3.4799815e-08,  1.2125500e-07],\n",
       "        [ 3.0443946e-08,  4.8628306e-07, -5.3453967e-08, ...,\n",
       "          6.4595412e-08, -1.6593327e-07,  3.4224271e-08],\n",
       "        ...,\n",
       "        [-5.0514974e-08, -5.3128429e-07, -2.0873182e-07, ...,\n",
       "         -4.0463749e-07, -2.0433741e-07, -7.1990229e-08],\n",
       "        [ 1.3427001e-07,  4.5979462e-07,  2.4305265e-08, ...,\n",
       "          4.1422663e-07, -2.0223982e-07,  6.4581243e-08],\n",
       "        [ 1.3160849e-07, -2.2621148e-07,  8.9444967e-08, ...,\n",
       "         -3.0409956e-07,  8.3471534e-08,  9.6492286e-08]], dtype=float32)>,\n",
       " <tf.Tensor: shape=(128, 512), dtype=float32, numpy=\n",
       " array([[-1.65818562e-07,  2.48943479e-07,  7.95436961e-08, ...,\n",
       "          1.50761039e-07, -2.87235959e-08,  1.95922993e-07],\n",
       "        [ 6.55324328e-08, -6.06313279e-07, -5.98018843e-08, ...,\n",
       "         -3.82182236e-07,  4.77599507e-08,  9.54121049e-08],\n",
       "        [-3.64060000e-08,  1.77246136e-07, -4.02135498e-08, ...,\n",
       "          9.40529716e-08, -1.71543462e-07,  1.69576609e-07],\n",
       "        ...,\n",
       "        [-1.18437939e-07,  4.38671691e-07, -2.31077291e-08, ...,\n",
       "          5.80940082e-07, -2.27415057e-07,  6.93749946e-09],\n",
       "        [-2.91881364e-08, -9.30798549e-08, -1.17987945e-07, ...,\n",
       "         -5.83819357e-08,  2.59983352e-07, -1.44072416e-08],\n",
       "        [ 7.83960417e-08, -2.23104479e-07, -3.48511513e-08, ...,\n",
       "          2.44079388e-08,  3.44457547e-08,  1.62554898e-07]], dtype=float32)>,\n",
       " <tf.Tensor: shape=(512,), dtype=float32, numpy=\n",
       " array([-1.63153127e-05,  1.15820665e-04,  1.35270830e-05,  4.32377965e-06,\n",
       "        -1.89277871e-05, -1.79278413e-05, -1.39381482e-05, -2.92452796e-06,\n",
       "        -3.78542536e-05,  4.71434250e-05, -3.35913064e-05, -1.39062558e-05,\n",
       "         1.04815017e-05, -4.34458052e-05,  7.86269720e-06,  6.85640725e-06,\n",
       "        -2.81595076e-05, -2.79519663e-05,  3.87245163e-05, -7.56213285e-06,\n",
       "        -4.40851227e-06,  1.66672944e-05, -1.55404086e-05, -2.96484886e-05,\n",
       "        -6.01005704e-05,  1.81706419e-05,  1.32057885e-05, -2.25238364e-05,\n",
       "         2.47433200e-05, -6.36037221e-05, -3.27149719e-05,  1.23659383e-05,\n",
       "         2.42087372e-05, -1.06515996e-04,  5.90789887e-06,  1.00066944e-04,\n",
       "        -1.55798862e-05, -1.62218312e-05,  4.45073383e-05,  3.24152643e-06,\n",
       "         4.93778789e-05,  3.92682086e-05, -2.39216388e-06, -3.11644762e-05,\n",
       "         3.55507873e-05, -2.40175495e-06, -1.49941279e-05, -1.77572510e-05,\n",
       "        -1.30146955e-05,  1.17837517e-05, -5.26132317e-05, -3.84264495e-05,\n",
       "        -1.60907293e-05,  2.91631004e-05,  9.42316092e-08,  6.21471117e-05,\n",
       "         3.13035671e-05, -2.84030721e-05,  1.76308677e-05,  2.44414550e-05,\n",
       "         4.48498758e-05,  3.97902040e-05,  2.23245952e-05, -5.14051135e-05,\n",
       "        -1.80464122e-05, -2.01368639e-05,  4.87778379e-05, -5.35362233e-05,\n",
       "        -1.54215504e-05, -3.13268174e-07, -1.01054920e-05, -2.10837534e-05,\n",
       "        -4.50121206e-06, -1.19378579e-04,  1.00062753e-05,  4.01553734e-06,\n",
       "        -3.03423731e-05, -2.55310879e-05,  1.04254432e-05, -3.24610410e-05,\n",
       "         4.82559772e-05, -2.88913748e-06,  2.31812992e-05, -3.28900023e-05,\n",
       "         1.01040041e-06,  2.49213826e-05,  3.79241865e-05, -2.23240067e-06,\n",
       "        -6.00779822e-06, -3.45910848e-05,  1.67599464e-05,  9.00944906e-06,\n",
       "         6.03870649e-06, -4.53340253e-05, -6.87001875e-06, -1.04513289e-04,\n",
       "         2.72065590e-05, -3.08278977e-05,  1.16976953e-05, -9.69427674e-06,\n",
       "        -2.12626710e-05, -5.12397492e-06,  5.49251636e-05, -9.46356613e-06,\n",
       "        -2.21408845e-05, -1.31775778e-06,  1.49618791e-06,  3.33417338e-05,\n",
       "        -6.24761378e-05,  2.85817760e-06,  1.75118494e-05,  7.30811735e-06,\n",
       "         1.94723980e-05,  1.26878585e-05,  2.11405641e-05,  9.69118992e-05,\n",
       "        -1.75990681e-06, -2.80869644e-05,  1.24658063e-05, -2.89443178e-05,\n",
       "         1.25533252e-05, -3.19791889e-06,  5.01728791e-05,  3.71339775e-06,\n",
       "         1.63634522e-05,  7.40206888e-05, -3.88989974e-05,  3.78624827e-05,\n",
       "        -1.08021486e-05,  1.73873064e-04, -1.86371108e-05, -1.00132092e-06,\n",
       "        -3.78406548e-05, -2.07530720e-05, -2.26404154e-05, -2.89915188e-05,\n",
       "        -5.10689460e-05,  4.82991745e-05, -5.40949950e-05, -2.96748149e-05,\n",
       "         1.52082248e-05, -7.87384633e-05,  9.74092018e-06,  7.98469046e-07,\n",
       "        -1.70726107e-05, -5.66998897e-05,  5.50589757e-05, -2.26377688e-05,\n",
       "        -2.16638291e-05,  1.72109412e-06, -5.40866022e-05, -2.02551491e-05,\n",
       "        -8.27637850e-05,  6.44062084e-06,  2.52163281e-05, -4.55925401e-05,\n",
       "         4.10882494e-05, -8.32976730e-05, -3.34167307e-05,  2.25930307e-05,\n",
       "         3.77472825e-05, -1.37145020e-04, -9.74686191e-06,  1.27930849e-04,\n",
       "        -6.50062429e-06, -2.82751571e-05,  7.59028553e-05,  2.20932907e-05,\n",
       "         7.79439579e-05,  4.90642051e-05, -1.01032429e-05, -2.45409901e-05,\n",
       "         4.54156871e-05, -5.69923395e-06,  1.07983033e-06, -1.76103222e-05,\n",
       "        -1.33518552e-05,  1.35448772e-06, -4.58186005e-05, -6.41795341e-05,\n",
       "        -3.86488900e-05,  5.02355033e-05,  5.15097963e-06,  6.69179426e-05,\n",
       "         1.41443488e-05, -5.14149797e-05,  2.43541872e-05,  4.77159338e-05,\n",
       "         3.74314077e-05,  6.40405633e-05,  3.10578071e-05, -8.61992157e-05,\n",
       "        -1.39123358e-05, -2.35042462e-05,  5.44827526e-05, -5.86260721e-05,\n",
       "         1.01648202e-05,  2.43111990e-05, -1.04500223e-05, -1.57660324e-05,\n",
       "         1.07227816e-05, -1.44814810e-04,  3.23665336e-06, -3.08131393e-06,\n",
       "        -3.96189134e-05, -7.34513151e-06, -8.99228326e-07, -4.55874397e-05,\n",
       "         6.94373593e-05, -2.77071067e-05,  1.79059498e-05, -4.90581006e-05,\n",
       "        -1.00676480e-05, -4.91928949e-06,  5.26299591e-05, -1.92079206e-05,\n",
       "        -7.96464974e-06, -4.46357008e-05,  3.48160429e-05,  3.08007002e-05,\n",
       "         3.06993097e-05, -7.58606984e-05,  1.14396062e-06, -1.05841755e-04,\n",
       "         1.92396092e-05, -2.38528264e-05,  7.82928419e-06, -2.38913217e-05,\n",
       "         1.06660991e-06, -2.05127799e-05,  6.35762335e-05, -1.71338870e-05,\n",
       "         2.02619594e-06,  2.01304683e-05,  3.31977571e-06,  3.28935348e-05,\n",
       "        -9.87356107e-05, -8.19192337e-06, -3.54847566e-06, -2.42815804e-05,\n",
       "         2.27703076e-05,  1.00441985e-05,  1.04692626e-05,  1.51423039e-04,\n",
       "         5.57306612e-06, -3.72583418e-05,  5.32127569e-06, -1.47703167e-05,\n",
       "         6.60795831e-06, -1.82118365e-05,  6.84504776e-05,  1.36554518e-05,\n",
       "         2.62175745e-05,  8.23444207e-05, -7.10847089e-05,  4.44385369e-05,\n",
       "        -1.08606648e-02, -5.49009442e-02, -8.25402886e-03,  7.40976911e-03,\n",
       "         8.94350186e-03, -7.45657249e-04, -2.39004660e-02, -1.65388957e-02,\n",
       "        -3.24303061e-02, -1.89942345e-02,  2.68299989e-02, -2.34189667e-02,\n",
       "         1.23865074e-02,  6.58078119e-02, -2.71661133e-02, -1.52520342e-02,\n",
       "         6.22983389e-02, -3.09185460e-02, -3.73659236e-03,  2.22986750e-02,\n",
       "        -9.64529533e-03, -4.68841055e-03, -2.26537101e-02, -1.12606520e-02,\n",
       "         2.49514058e-02, -5.15158381e-03,  2.57389136e-02, -4.55640070e-02,\n",
       "         2.19038147e-02, -6.15671873e-02,  3.69152501e-02, -8.50291364e-03,\n",
       "         2.44226456e-02, -6.67252913e-02, -1.18963942e-02, -4.18040492e-02,\n",
       "         4.68942076e-02,  1.30924648e-02, -3.59335132e-02, -1.01534138e-02,\n",
       "        -2.50148103e-02,  4.00921702e-02, -2.43770704e-02,  5.74156595e-03,\n",
       "         3.18930740e-03,  1.46285826e-02,  5.23180589e-02, -4.05829027e-03,\n",
       "         1.72994137e-02,  2.78406404e-03, -2.84917583e-03,  2.24693026e-02,\n",
       "         3.00590675e-02,  2.23595537e-02,  2.86203343e-04,  1.96616501e-02,\n",
       "        -1.83405802e-02,  2.91663338e-03,  3.31663564e-02,  2.01827325e-02,\n",
       "         3.42577882e-02,  3.75694856e-02,  1.18059423e-02,  3.86610553e-02,\n",
       "         8.80715437e-03,  1.54321156e-02,  2.26852037e-02, -4.94351313e-02,\n",
       "        -5.25900023e-03,  1.23112965e-02, -6.42205868e-03, -5.79667510e-03,\n",
       "        -5.90271782e-03, -4.48509641e-02,  1.91506967e-02, -1.42669305e-02,\n",
       "         1.68570969e-03,  8.72005709e-03, -2.07642261e-02, -1.62848812e-02,\n",
       "        -1.75218564e-02,  4.03960645e-02, -1.60844214e-02, -3.41167999e-03,\n",
       "         7.42172217e-03, -5.10127097e-02,  3.36335450e-02,  7.51487259e-03,\n",
       "         3.71020436e-02, -4.57595959e-02, -1.38627123e-02, -3.37538980e-02,\n",
       "        -2.96872016e-02, -7.24510197e-03, -5.18170558e-02,  9.77629889e-03,\n",
       "        -1.22499093e-03, -1.02447637e-03,  8.39903951e-04, -2.70102117e-02,\n",
       "        -1.02854948e-02,  1.69619564e-02, -1.55579681e-02, -1.06216571e-03,\n",
       "        -1.83236171e-02, -5.08371219e-02,  1.14078093e-02,  2.36937311e-02,\n",
       "        -1.92405768e-02, -1.73848607e-02, -1.65769085e-02, -6.27855062e-02,\n",
       "        -5.48102101e-03,  8.23136233e-03,  2.65181661e-02, -8.76561627e-02,\n",
       "        -6.43195212e-03,  2.36192159e-03, -2.17329226e-02, -3.28586623e-02,\n",
       "         2.32945662e-02,  8.70627910e-03, -7.06383726e-03, -2.28690486e-02,\n",
       "        -9.66821611e-03,  3.65488827e-02,  3.23986560e-02,  7.31059490e-03,\n",
       "        -1.39427466e-05,  1.37595736e-04,  7.96463064e-06,  4.22647736e-06,\n",
       "        -1.89718012e-05, -1.38380565e-05, -7.79978836e-06, -8.95729590e-06,\n",
       "        -4.90475650e-05,  6.14707897e-05, -4.44971811e-05, -1.70952699e-05,\n",
       "         1.06204770e-05, -4.62660464e-05,  1.53756773e-05,  6.77523349e-06,\n",
       "        -3.72179129e-05, -2.08523415e-05,  4.65451740e-05, -8.70724944e-06,\n",
       "        -1.03313323e-06,  9.58076635e-06, -2.50422818e-05, -3.42614694e-05,\n",
       "        -7.15535280e-05,  1.75990081e-05,  2.65539693e-05, -2.63654310e-05,\n",
       "         2.97585284e-05, -7.62329000e-05, -3.81656137e-05,  1.65149395e-05,\n",
       "         2.07556004e-05, -1.07502688e-04,  1.71069405e-06,  1.06693027e-04,\n",
       "        -2.36484630e-05, -2.19449812e-05,  5.26276526e-05,  1.12243006e-05,\n",
       "         5.75345839e-05,  3.80322745e-05, -8.85891950e-06, -3.34543292e-05,\n",
       "         3.96938194e-05, -2.30435853e-06, -1.22899874e-05, -2.28439130e-05,\n",
       "        -4.79793744e-06,  7.51314747e-06, -5.27221200e-05, -3.70142116e-05,\n",
       "        -2.00120157e-05,  3.62942046e-05,  4.18596665e-06,  7.57509260e-05,\n",
       "         2.69395841e-05, -2.86718005e-05,  1.91138497e-05,  2.10723956e-05,\n",
       "         3.92393631e-05,  3.57044337e-05,  3.63469262e-05, -6.08748742e-05,\n",
       "        -2.53996477e-05, -1.88369922e-05,  4.16764233e-05, -5.13568484e-05,\n",
       "        -1.39980657e-05, -2.83801273e-06, -8.80661355e-06, -2.51717902e-05,\n",
       "        -4.69260704e-06, -1.31570618e-04,  6.83142025e-06,  7.61187948e-07,\n",
       "        -2.62122376e-05, -3.38532263e-05,  2.07430076e-05, -3.90871392e-05,\n",
       "         4.98214977e-05, -5.66408153e-06,  3.30705188e-05, -3.58905963e-05,\n",
       "         1.80548659e-06,  2.22840390e-05,  5.33715356e-05, -5.27039265e-06,\n",
       "        -1.70163421e-05, -4.09755885e-05,  1.61957705e-05,  9.36055403e-06,\n",
       "         4.52294989e-06, -4.65034718e-05, -3.29850900e-06, -1.09300097e-04,\n",
       "         4.01422622e-05, -2.36200540e-05,  5.05797834e-06, -6.67120639e-06,\n",
       "        -1.40086340e-05, -1.13617371e-05,  6.08019291e-05, -1.64880475e-05,\n",
       "        -2.07683315e-05,  6.56794373e-06,  2.14149713e-06,  3.70707130e-05,\n",
       "        -7.69193866e-05,  7.19861964e-06,  1.32300411e-05, -1.91726576e-06,\n",
       "         1.25107963e-05,  1.14080085e-05,  2.42758615e-05,  1.21384437e-04,\n",
       "        -4.10583743e-06, -2.94081674e-05,  1.11884401e-06, -3.86773099e-05,\n",
       "         8.56808856e-06,  7.48753337e-07,  5.69126532e-05,  4.78941638e-06,\n",
       "         2.88845986e-05,  7.43891796e-05, -4.24131431e-05,  4.01304460e-05],\n",
       "       dtype=float32)>,\n",
       " <tf.Tensor: shape=(128, 10000), dtype=float32, numpy=\n",
       " array([[-1.4833939e-03, -1.4064244e-03, -1.4306074e-03, ...,\n",
       "          3.1062436e-06,  3.1028112e-06,  3.1047543e-06],\n",
       "        [ 1.5029904e-03,  3.2125257e-03,  2.2174080e-04, ...,\n",
       "         -1.6460440e-06, -1.6438777e-06, -1.6431258e-06],\n",
       "        [-1.0481037e-03, -8.8634313e-04, -1.5255575e-03, ...,\n",
       "          2.0070061e-06,  2.0045691e-06,  2.0052782e-06],\n",
       "        ...,\n",
       "        [-1.7017813e-03, -2.9602193e-03, -3.2094959e-03, ...,\n",
       "          4.4546327e-06,  4.4488224e-06,  4.4519265e-06],\n",
       "        [ 5.8987236e-04,  1.4726950e-03,  8.9625642e-04, ...,\n",
       "         -1.2447626e-06, -1.2432210e-06, -1.2452176e-06],\n",
       "        [ 5.9515558e-04,  1.3128268e-03,  8.4005762e-04, ...,\n",
       "         -1.2483566e-06, -1.2475158e-06, -1.2473985e-06]], dtype=float32)>,\n",
       " <tf.Tensor: shape=(10000,), dtype=float32, numpy=\n",
       " array([-0.7979987 , -1.0313318 , -1.0313312 , ...,  0.0020011 ,\n",
       "         0.00199928,  0.00200008], dtype=float32)>]"
      ]
     },
     "execution_count": 48,
     "metadata": {},
     "output_type": "execute_result"
    }
   ],
   "source": [
    "# Define the gradient clipping threshold\n",
    "grads, _ = tf.clip_by_global_norm(grad_t_list, max_grad_norm)\n",
    "grads"
   ]
  },
  {
   "cell_type": "markdown",
   "metadata": {},
   "source": [
    "<h4> 4.Apply the optimizer to the variables/gradients tuple. </h4>\n"
   ]
  },
  {
   "cell_type": "code",
   "execution_count": 49,
   "metadata": {
    "tags": []
   },
   "outputs": [],
   "source": [
    "# Create the training TensorFlow Operation through our optimizer\n",
    "train_op = optimizer.apply_gradients(zip(grads, tvars))"
   ]
  },
  {
   "cell_type": "markdown",
   "metadata": {},
   "source": [
    "<a id=\"ltsm\"></a>\n",
    "<h2>LSTM</h2>\n"
   ]
  },
  {
   "cell_type": "markdown",
   "metadata": {},
   "source": [
    "We learned how the model is build step by step. Noe, let's then create a Class that represents our model. This class needs a few things:\n",
    "<ul>\n",
    "    <li>We have to create the model in accordance with our defined hyperparameters</li>\n",
    "    <li>We have to create the LSTM cell structure and connect them with our RNN structure</li>\n",
    "    <li>We have to create the word embeddings and point them to the input data</li>\n",
    "    <li>We have to create the input structure for our RNN</li>\n",
    "    <li>We need to create a logistic structure to return the probability of our words</li>\n",
    "    <li>We need to create the loss and cost functions for our optimizer to work, and then create the optimizer</li>\n",
    "    <li>And finally, we need to create a training operation that can be run to actually train our model</li>\n",
    "</ul>\n"
   ]
  },
  {
   "cell_type": "code",
   "execution_count": 50,
   "metadata": {
    "tags": []
   },
   "outputs": [],
   "source": [
    "class PTBModel(object):\n",
    "\n",
    "\n",
    "    def __init__(self):\n",
    "        ######################################\n",
    "        # Setting parameters for ease of use #\n",
    "        ######################################\n",
    "        self.batch_size = batch_size\n",
    "        self.num_steps = num_steps\n",
    "        self.hidden_size_l1 = hidden_size_l1\n",
    "        self.hidden_size_l2 = hidden_size_l2\n",
    "        self.vocab_size = vocab_size\n",
    "        self.embeding_vector_size = embeding_vector_size\n",
    "        # Create a variable for the learning rate\n",
    "        self._lr = 1.0\n",
    "        \n",
    "        ###############################################################################\n",
    "        # Initializing the model using keras Sequential API  #\n",
    "        ###############################################################################\n",
    "        \n",
    "        self._model = tf.keras.models.Sequential()\n",
    "        \n",
    "        ####################################################################\n",
    "        # Creating the word embeddings layer and adding it to the sequence #\n",
    "        ####################################################################\n",
    "        with tf.device(\"/cpu:0\"):\n",
    "            # Create the embeddings for our input data. Size is hidden size.\n",
    "            self._embedding_layer = tf.keras.layers.Embedding(self.vocab_size, self.embeding_vector_size,batch_input_shape=(self.batch_size, self.num_steps),trainable=True,name=\"embedding_vocab\")  #[10000x200]\n",
    "            self._model.add(self._embedding_layer)\n",
    "            \n",
    "\n",
    "        ##########################################################################\n",
    "        # Creating the LSTM cell structure and connect it with the RNN structure #\n",
    "        ##########################################################################\n",
    "        # Create the LSTM Cells. \n",
    "        # This creates only the structure for the LSTM and has to be associated with a RNN unit still.\n",
    "        # The argument  of LSTMCell is size of hidden layer, that is, the number of hidden units of the LSTM (inside A). \n",
    "        # LSTM cell processes one word at a time and computes probabilities of the possible continuations of the sentence.\n",
    "        lstm_cell_l1 = tf.keras.layers.LSTMCell(hidden_size_l1)\n",
    "        lstm_cell_l2 = tf.keras.layers.LSTMCell(hidden_size_l2)\n",
    "        \n",
    "\n",
    "        \n",
    "        # By taking in the LSTM cells as parameters, the StackedRNNCells function junctions the LSTM units to the RNN units.\n",
    "        # RNN cell composed sequentially of stacked simple cells.\n",
    "        stacked_lstm = tf.keras.layers.StackedRNNCells([lstm_cell_l1, lstm_cell_l2])\n",
    "\n",
    "\n",
    "        \n",
    "\n",
    "        ############################################\n",
    "        # Creating the input structure for our RNN #\n",
    "        ############################################\n",
    "        # Input structure is 20x[30x200]\n",
    "        # Considering each word is represended by a 200 dimentional vector, and we have 30 batchs, we create 30 word-vectors of size [30xx2000]\n",
    "        # The input structure is fed from the embeddings, which are filled in by the input data\n",
    "        # Feeding a batch of b sentences to a RNN:\n",
    "        # In step 1,  first word of each of the b sentences (in a batch) is input in parallel.  \n",
    "        # In step 2,  second word of each of the b sentences is input in parallel. \n",
    "        # The parallelism is only for efficiency.  \n",
    "        # Each sentence in a batch is handled in parallel, but the network sees one word of a sentence at a time and does the computations accordingly. \n",
    "        # All the computations involving the words of all sentences in a batch at a given time step are done in parallel. \n",
    "\n",
    "        ########################################################################################################\n",
    "        # Instantiating our RNN model and setting stateful to True to feed forward the state to the next layer #\n",
    "        ########################################################################################################\n",
    "        \n",
    "        self._RNNlayer  =  tf.keras.layers.RNN(stacked_lstm,[batch_size, num_steps],return_state=False,stateful=True,trainable=True)\n",
    "        \n",
    "        # Define the initial state, i.e., the model state for the very first data point\n",
    "        # It initialize the state of the LSTM memory. The memory state of the network is initialized with a vector of zeros and gets updated after reading each word.\n",
    "        self._initial_state = tf.Variable(tf.zeros([batch_size,embeding_vector_size]),trainable=False)\n",
    "        self._RNNlayer.inital_state = self._initial_state\n",
    "    \n",
    "        ############################################\n",
    "        # Adding RNN layer to keras sequential API #\n",
    "        ############################################        \n",
    "        self._model.add(self._RNNlayer)\n",
    "        \n",
    "        #self._model.add(tf.keras.layers.LSTM(hidden_size_l1,return_sequences=True,stateful=True))\n",
    "        #self._model.add(tf.keras.layers.LSTM(hidden_size_l2,return_sequences=True))\n",
    "        \n",
    "        \n",
    "        ####################################################################################################\n",
    "        # Instantiating a Dense layer that connects the output to the vocab_size  and adding layer to model#\n",
    "        ####################################################################################################\n",
    "        self._dense = tf.keras.layers.Dense(self.vocab_size)\n",
    "        self._model.add(self._dense)\n",
    " \n",
    "        \n",
    "        ####################################################################################################\n",
    "        # Adding softmax activation layer and deriving probability to each class and adding layer to model #\n",
    "        ####################################################################################################\n",
    "        self._activation = tf.keras.layers.Activation('softmax')\n",
    "        self._model.add(self._activation)\n",
    "\n",
    "        ##########################################################\n",
    "        # Instantiating the stochastic gradient decent optimizer #\n",
    "        ########################################################## \n",
    "        self._optimizer = tf.keras.optimizers.SGD(lr=self._lr, clipnorm=max_grad_norm)\n",
    "        \n",
    "        \n",
    "        ##############################################################################\n",
    "        # Compiling and summarizing the model stacked using the keras sequential API #\n",
    "        ##############################################################################\n",
    "        self._model.compile(loss=self.crossentropy, optimizer=self._optimizer)\n",
    "        self._model.summary()\n",
    "\n",
    "\n",
    "    def crossentropy(self,y_true, y_pred):\n",
    "        return tf.keras.losses.sparse_categorical_crossentropy(y_true, y_pred)\n",
    "\n",
    "    def train_batch(self,_input_data,_targets):\n",
    "        #################################################\n",
    "        # Creating the Training Operation for our Model #\n",
    "        #################################################\n",
    "        # Create a variable for the learning rate\n",
    "        self._lr = tf.Variable(0.0, trainable=False)\n",
    "        # Get all TensorFlow variables marked as \"trainable\" (i.e. all of them except _lr, which we just created)\n",
    "        tvars = self._model.trainable_variables\n",
    "        # Define the gradient clipping threshold\n",
    "        with tf.GradientTape() as tape:\n",
    "            # Forward pass.\n",
    "            output_words_prob = self._model(_input_data)\n",
    "            # Loss value for this batch.\n",
    "            loss  = self.crossentropy(_targets, output_words_prob)\n",
    "            # average across batch and reduce sum\n",
    "            cost = tf.reduce_sum(loss/ self.batch_size)\n",
    "        # Get gradients of loss wrt the trainable variables.\n",
    "        grad_t_list = tape.gradient(cost, tvars)\n",
    "        # Define the gradient clipping threshold\n",
    "        grads, _ = tf.clip_by_global_norm(grad_t_list, max_grad_norm)\n",
    "        # Create the training TensorFlow Operation through our optimizer\n",
    "        train_op = self._optimizer.apply_gradients(zip(grads, tvars))\n",
    "        return cost\n",
    "        \n",
    "    def test_batch(self,_input_data,_targets):\n",
    "        #################################################\n",
    "        # Creating the Testing Operation for our Model #\n",
    "        #################################################\n",
    "        output_words_prob = self._model(_input_data)\n",
    "        loss  = self.crossentropy(_targets, output_words_prob)\n",
    "        # average across batch and reduce sum\n",
    "        cost = tf.reduce_sum(loss/ self.batch_size)\n",
    "\n",
    "        return cost\n",
    "    @classmethod\n",
    "    def instance(cls) : \n",
    "        return PTBModel()"
   ]
  },
  {
   "cell_type": "markdown",
   "metadata": {},
   "source": [
    "With that, the actual structure of our Recurrent Neural Network with Long Short-Term Memory is finished. What remains for us to do is to actually create the methods to run through time -- that is, the <code>run_epoch</code> method to be run at each epoch and a <code>main</code> script which ties all of this together.\n",
    "\n",
    "What our <code>run_epoch</code> method should do is take our input data and feed it to the relevant operations. This will return at the very least the current result for the cost function.\n"
   ]
  },
  {
   "cell_type": "code",
   "execution_count": 51,
   "metadata": {
    "tags": []
   },
   "outputs": [],
   "source": [
    "\n",
    "########################################################################################################################\n",
    "# run_one_epoch takes as parameters  the model instance, the data to be fed, training or testing mode and verbose info #\n",
    "########################################################################################################################\n",
    "def run_one_epoch(m, data,is_training=True,verbose=False):\n",
    "\n",
    "    #Define the epoch size based on the length of the data, batch size and the number of steps\n",
    "    epoch_size = ((len(data) // m.batch_size) - 1) // m.num_steps\n",
    "    start_time = time.time()\n",
    "    costs = 0.\n",
    "    iters = 0\n",
    "    \n",
    "    m._model.reset_states()\n",
    "    \n",
    "    #For each step and data point\n",
    "    for step, (x, y) in enumerate(ptb_iterator(data, m.batch_size, m.num_steps)):\n",
    "        \n",
    "        #Evaluate and return cost, state by running cost, final_state and the function passed as parameter\n",
    "        #y = tf.keras.utils.to_categorical(y, num_classes=vocab_size)\n",
    "        if is_training : \n",
    "            loss=  m.train_batch(x, y)\n",
    "        else :\n",
    "            loss = m.test_batch(x, y)\n",
    "                                   \n",
    "\n",
    "        #Add returned cost to costs (which keeps track of the total costs for this epoch)\n",
    "        costs += loss\n",
    "        \n",
    "        #Add number of steps to iteration counter\n",
    "        iters += m.num_steps\n",
    "\n",
    "        if verbose and step % (epoch_size // 10) == 10:\n",
    "            print(\"Itr %d of %d, perplexity: %.3f speed: %.0f wps\" % (step , epoch_size, np.exp(costs / iters), iters * m.batch_size / (time.time() - start_time)))\n",
    "        \n",
    "\n",
    "\n",
    "    # Returns the Perplexity rating for us to keep track of how the model is evolving\n",
    "    return np.exp(costs / iters)\n"
   ]
  },
  {
   "cell_type": "markdown",
   "metadata": {},
   "source": [
    "Now, we create the <code>main</code> method to tie everything together. The code here reads the data from the directory, using the <code>reader</code> helper module, and then trains and evaluates the model on both a testing and a validating subset of data.\n"
   ]
  },
  {
   "cell_type": "code",
   "execution_count": 52,
   "metadata": {
    "tags": []
   },
   "outputs": [],
   "source": [
    "# Reads the data and separates it into training data, validation data and testing data\n",
    "raw_data = ptb_raw_data(data_dir)\n",
    "train_data, valid_data, test_data, _, _ = raw_data"
   ]
  },
  {
   "cell_type": "code",
   "execution_count": null,
   "metadata": {
    "tags": []
   },
   "outputs": [
    {
     "name": "stdout",
     "output_type": "stream",
     "text": [
      "Model: \"sequential_1\"\n",
      "_________________________________________________________________\n",
      " Layer (type)                Output Shape              Param #   \n",
      "=================================================================\n",
      " embedding_vocab (Embedding)  (30, 20, 200)            2000000   \n",
      "                                                                 \n",
      " rnn_1 (RNN)                 (30, 20, 128)             671088    \n",
      "                                                                 \n",
      " dense_1 (Dense)             (30, 20, 10000)           1290000   \n",
      "                                                                 \n",
      " activation_1 (Activation)   (30, 20, 10000)           0         \n",
      "                                                                 \n",
      "=================================================================\n",
      "Total params: 3,961,088\n",
      "Trainable params: 3,955,088\n",
      "Non-trainable params: 6,000\n",
      "_________________________________________________________________\n",
      "Epoch 1 : Learning rate: 1.000\n",
      "Itr 10 of 1549, perplexity: 4711.527 speed: 1056 wps\n",
      "Itr 164 of 1549, perplexity: 1086.543 speed: 1095 wps\n",
      "Itr 318 of 1549, perplexity: 839.057 speed: 1117 wps\n",
      "Itr 472 of 1549, perplexity: 691.175 speed: 1125 wps\n",
      "Itr 626 of 1549, perplexity: 583.215 speed: 1123 wps\n",
      "Itr 780 of 1549, perplexity: 516.403 speed: 1128 wps\n",
      "Itr 934 of 1549, perplexity: 465.423 speed: 1131 wps\n",
      "Itr 1088 of 1549, perplexity: 427.657 speed: 1132 wps\n",
      "Itr 1242 of 1549, perplexity: 398.634 speed: 1133 wps\n",
      "Itr 1396 of 1549, perplexity: 371.894 speed: 1132 wps\n",
      "Epoch 1 : Train Perplexity: 350.814\n",
      "Epoch 1 : Valid Perplexity: 211.602\n",
      "Epoch 2 : Learning rate: 1.000\n",
      "Itr 10 of 1549, perplexity: 236.307 speed: 868 wps\n",
      "Itr 164 of 1549, perplexity: 209.971 speed: 1117 wps\n",
      "Itr 318 of 1549, perplexity: 201.610 speed: 1138 wps\n",
      "Itr 472 of 1549, perplexity: 193.416 speed: 1135 wps\n",
      "Itr 626 of 1549, perplexity: 184.409 speed: 1137 wps\n",
      "Itr 780 of 1549, perplexity: 180.667 speed: 1130 wps\n",
      "Itr 934 of 1549, perplexity: 176.712 speed: 1123 wps\n",
      "Itr 1088 of 1549, perplexity: 173.309 speed: 1126 wps\n",
      "Itr 1242 of 1549, perplexity: 170.976 speed: 1124 wps\n",
      "Itr 1396 of 1549, perplexity: 166.963 speed: 1121 wps\n",
      "Epoch 2 : Train Perplexity: 164.201\n",
      "Epoch 2 : Valid Perplexity: 162.370\n",
      "Epoch 3 : Learning rate: 1.000\n",
      "Itr 10 of 1549, perplexity: 164.941 speed: 1126 wps\n",
      "Itr 164 of 1549, perplexity: 147.422 speed: 1092 wps\n",
      "Itr 318 of 1549, perplexity: 143.888 speed: 1121 wps\n",
      "Itr 472 of 1549, perplexity: 139.441 speed: 1135 wps\n",
      "Itr 626 of 1549, perplexity: 134.232 speed: 1141 wps\n",
      "Itr 780 of 1549, perplexity: 132.930 speed: 1143 wps\n",
      "Itr 934 of 1549, perplexity: 131.227 speed: 1147 wps\n",
      "Itr 1088 of 1549, perplexity: 129.670 speed: 1147 wps\n",
      "Itr 1242 of 1549, perplexity: 128.797 speed: 1147 wps\n",
      "Itr 1396 of 1549, perplexity: 126.502 speed: 1149 wps\n",
      "Epoch 3 : Train Perplexity: 125.193\n",
      "Epoch 3 : Valid Perplexity: 145.544\n",
      "Epoch 4 : Learning rate: 1.000\n",
      "Itr 10 of 1549, perplexity: 131.594 speed: 1141 wps\n",
      "Itr 164 of 1549, perplexity: 120.078 speed: 1149 wps\n",
      "Itr 318 of 1549, perplexity: 118.033 speed: 1146 wps\n",
      "Itr 472 of 1549, perplexity: 114.728 speed: 1146 wps\n",
      "Itr 626 of 1549, perplexity: 110.750 speed: 1149 wps\n",
      "Itr 780 of 1549, perplexity: 110.134 speed: 1149 wps\n",
      "Itr 934 of 1549, perplexity: 109.080 speed: 1147 wps\n",
      "Itr 1088 of 1549, perplexity: 108.188 speed: 1147 wps\n",
      "Itr 1242 of 1549, perplexity: 107.798 speed: 1149 wps\n",
      "Itr 1396 of 1549, perplexity: 106.117 speed: 1151 wps\n",
      "Epoch 4 : Train Perplexity: 105.318\n",
      "Epoch 4 : Valid Perplexity: 138.681\n",
      "Epoch 5 : Learning rate: 1.000\n",
      "Itr 10 of 1549, perplexity: 112.080 speed: 1137 wps\n",
      "Itr 164 of 1549, perplexity: 104.224 speed: 1169 wps\n",
      "Itr 318 of 1549, perplexity: 102.629 speed: 1162 wps\n",
      "Itr 472 of 1549, perplexity: 99.914 speed: 1149 wps\n",
      "Itr 626 of 1549, perplexity: 96.663 speed: 1141 wps\n"
     ]
    }
   ],
   "source": [
    "# Instantiates the PTBModel class\n",
    "m=PTBModel.instance()   \n",
    "K = tf.keras.backend \n",
    "for i in range(max_epoch):\n",
    "    # Define the decay for this epoch\n",
    "    lr_decay = decay ** max(i - max_epoch_decay_lr, 0.0)\n",
    "    dcr = learning_rate * lr_decay\n",
    "    m._lr = dcr\n",
    "    K.set_value(m._model.optimizer.learning_rate,m._lr)\n",
    "    print(\"Epoch %d : Learning rate: %.3f\" % (i + 1, m._model.optimizer.learning_rate))\n",
    "    # Run the loop for this epoch in the training mode\n",
    "    train_perplexity = run_one_epoch(m, train_data,is_training=True,verbose=True)\n",
    "    print(\"Epoch %d : Train Perplexity: %.3f\" % (i + 1, train_perplexity))\n",
    "        \n",
    "    # Run the loop for this epoch in the validation mode\n",
    "    valid_perplexity = run_one_epoch(m, valid_data,is_training=False,verbose=False)\n",
    "    print(\"Epoch %d : Valid Perplexity: %.3f\" % (i + 1, valid_perplexity))\n",
    "    \n",
    "# Run the loop in the testing mode to see how effective was our training\n",
    "test_perplexity = run_one_epoch(m, test_data,is_training=False,verbose=False)\n",
    "print(\"Test Perplexity: %.3f\" % test_perplexity)\n",
    "\n"
   ]
  },
  {
   "cell_type": "markdown",
   "metadata": {},
   "source": [
    "As you can see, the model's perplexity rating drops very quickly after a few iterations. As was elaborated before, <b>lower Perplexity means that the model is more certain about its prediction</b>. As such, we can be sure that this model is performing well!\n"
   ]
  },
  {
   "cell_type": "markdown",
   "metadata": {},
   "source": [
    "-------\n"
   ]
  },
  {
   "cell_type": "markdown",
   "metadata": {},
   "source": [
    "This is the end of the <b>Applying Recurrent Neural Networks to Text Processing</b> notebook. Hopefully you now have a better understanding of Recurrent Neural Networks and how to implement one utilizing TensorFlow. Thank you for reading this notebook, and good luck on your studies.\n"
   ]
  },
  {
   "cell_type": "markdown",
   "metadata": {},
   "source": [
    "## Want to learn more?\n",
    "\n",
    "Also, you can use __Watson Studio__ to run these notebooks faster with bigger datasets.__Watson Studio__ is IBM’s leading cloud solution for data scientists, built by data scientists. With Jupyter notebooks, RStudio, Apache Spark and popular libraries pre-packaged in the cloud, __Watson Studio__ enables data scientists to collaborate on their projects without having to install anything. Join the fast-growing community of __Watson Studio__ users today with a free account at [Watson Studio](https://cocl.us/ML0120EN_DSX).This is the end of this lesson. Thank you for reading this notebook, and good luck on your studies.\n"
   ]
  },
  {
   "cell_type": "markdown",
   "metadata": {},
   "source": [
    "### Thanks for completing this lesson!\n",
    "\n",
    "Notebook created by <a href=\"https://br.linkedin.com/in/walter-gomes-de-amorim-junior-624726121\">Walter Gomes de Amorim Junior</a>, <a href = \"https://linkedin.com/in/saeedaghabozorgi\"> Saeed Aghabozorgi </a></h4>\n",
    "\n",
    "\n",
    "Updated to TF 2.X by  <a href=\"https://www.linkedin.com/in/samaya-madhavan\"> Samaya Madhavan </a>\n"
   ]
  },
  {
   "cell_type": "markdown",
   "metadata": {},
   "source": [
    "<hr>\n",
    "\n",
    "Copyright &copy; 2018 [Cognitive Class](https://cocl.us/DX0108EN_CC). This notebook and its source code are released under the terms of the [MIT License](https://bigdatauniversity.com/mit-license/).\n"
   ]
  }
 ],
 "metadata": {
  "kernelspec": {
   "display_name": "Python",
   "language": "python",
   "name": "conda-env-python-py"
  },
  "language_info": {
   "codemirror_mode": {
    "name": "ipython",
    "version": 3
   },
   "file_extension": ".py",
   "mimetype": "text/x-python",
   "name": "python",
   "nbconvert_exporter": "python",
   "pygments_lexer": "ipython3",
   "version": "3.7.12"
  },
  "prev_pub_hash": "dc854cc2a3cd5e8454549d14810f586268aa35a4c1ca674849cd9bf9674931b2"
 },
 "nbformat": 4,
 "nbformat_minor": 4
}
